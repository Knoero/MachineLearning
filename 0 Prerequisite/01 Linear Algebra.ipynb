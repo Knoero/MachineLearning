{
 "cells": [
  {
   "cell_type": "markdown",
   "id": "c3c44d4d",
   "metadata": {},
   "source": [
    "**Information:** *A brief review of Linear Algebra used in Machine Learning.*\n",
    "\n",
    "**Written by:** *Zihao Xu*\n",
    "\n",
    "**Last update date:**: *05.19.2020*"
   ]
  },
  {
   "cell_type": "code",
   "execution_count": 3,
   "id": "b241a58c",
   "metadata": {},
   "outputs": [],
   "source": [
    "import numpy as np\n",
    "import matplotlib.pyplot as plt"
   ]
  },
  {
   "cell_type": "markdown",
   "id": "cd6a0d4c",
   "metadata": {},
   "source": [
    "# Basic Concepts\n",
    "\n",
    "## Scalars, Vectors, Matrices and Tensors\n",
    "\n",
    "### Scalars\n",
    "- Single number\n",
    "- Denoted as italic lowercase letter such as $a$, $b$, $c$"
   ]
  },
  {
   "cell_type": "markdown",
   "id": "65d2731e",
   "metadata": {},
   "source": [
    "### Vectors\n",
    "- Array of numbers\n",
    "- Usually consider vectors to be \"column vectors\"\n",
    "- Denoted as lowercase letter (often bolded)\n",
    "    > $\\textbf{x}=\\begin{bmatrix} x_1 \\\\ x_2 \\\\ \\vdots \\\\x_d \\end{bmatrix}$\n",
    "- Dimension is often denoted by $d$, $D$, or $p$\n",
    "    > $\\textbf{x} \\in \\mathbb{R}^d$\n",
    "- Access elements via subscript\n",
    "    > $x_i$ is the $i$-th element"
   ]
  },
  {
   "cell_type": "markdown",
   "id": "c885d1eb",
   "metadata": {},
   "source": [
    "### Matrices\n",
    "- 2D array of numbers\n",
    "- Denoted as uppercase letter (often bolded)\n",
    "    > $\\mathbf{A}=\\begin{bmatrix}\n",
    "    A_{1,1} & \\cdots & A_{1,n}\\\\\n",
    "    \\vdots & \\ddots & \\vdots \\\\\n",
    "    A_{m,1} & \\cdots & A_{m,n}\n",
    "    \\end{bmatrix}$\n",
    "- Dimension is often denoted by $m\\times n$\n",
    "    > $\\textbf{A} \\in \\mathbb{R}^{m \\times n}$\n",
    "- Access elements by double subscript \n",
    "    > $X_{i,j}$ or $x_{i,j}$ is the $i,j$-th entry of the matrix\n",
    "- Access rows or columns via subscript or numpy notation\n",
    "    > $X_{i,:}$ is the $i$-th row, $X_{:,j}$ is the $j$-th column"
   ]
  },
  {
   "cell_type": "markdown",
   "id": "422121fa",
   "metadata": {},
   "source": [
    "### Tensors\n",
    "- n-D array, array with more than two axes\n",
    "    > $\\textbf{A}\\in \\mathbb{R}^{c\\times w\\times h}$\n",
    "- Other notations are similar with Matrices"
   ]
  },
  {
   "cell_type": "markdown",
   "id": "5022fa0c",
   "metadata": {},
   "source": [
    "### Addition of matrices, scalar multiplication and addition\n",
    "- When $\\textbf{A}=[A_{i,j}]$ and $\\textbf{B}=[B_{i,j}]$ have the same shape, the sum of them is written as $\\textbf{C}=\\textbf{A}+\\textbf{B}$ where $C_{i,j}=A_{i,j}+B_{i,j}$.\n",
    "    - In general, matrices of different sizes cannot be added.\n",
    "    - However, in the context of Deep Learning, notations like $\\textbf{C}=\\textbf{A}+\\textbf{b}$ is allowed where $C_{i,j}=A_{i,j}+b_{j}$, which means the vector $\\mathbf{b}$ is added to each row of the matrix. This is to avoid the need to define a matrix with $\\mathbf{b}$ copied into each row before doing the addition, This implicit copying is called **broadcasting**.\n",
    "- The product of any $m\\times n$ matrix $\\mathbf{A}=[A_{i,j}]$ and any scalar $c$ is written as $\\mathbf{C}=c\\mathbf{A}$ where $C_{i,j}=c\\cdot A_{i,j}$.\n",
    "- Similarly, the addition of any $m\\times n$ matrix $\\mathbf{A}=[A_{i,j}]$ and any scalar $b$ is written as $\\mathbf{C}=\\mathbf{A}+b$ where $C_{i,j}=A_{i,j}+b$.\n",
    "- Common calculation rules\n",
    "    - $\\mathbf{A}+\\mathbf{B}=\\mathbf{B}+\\mathbf{A}$\n",
    "    - $(\\mathbf{A}+\\mathbf{B})+\\mathbf{C}=\\mathbf{A}+(\\mathbf{B}+\\mathbf{C})$\n",
    "    - $c(\\mathbf{A}+\\mathbf{B})=c\\mathbf{A}+c\\mathbf{B}$\n",
    "    - $(c+k)\\mathbf{A}=c\\mathbf{A}+k\\mathbf{A}$\n",
    "    - $c(k\\mathbf{A})=ck\\mathbf{A}$"
   ]
  },
  {
   "cell_type": "markdown",
   "id": "72c3a557",
   "metadata": {},
   "source": [
    "### Multiplication (Standard Product)\n",
    "- The product $\\mathbf{C}=\\mathbf{A}\\mathbf{B}$ of an $m\\times n_1$ matrix $\\mathbf{A}=[A_{i,j}]$ times an $n_2\\times p$ matrix $\\mathbf{B}=[B_{i,j}]$ is defined if and only if $n_1=n_2$ and then $\\mathbf{C}$ will be an $m\\times p$ matrix $\\mathbf{C}$ with entries\n",
    "$$C_{i,j}=\\overset{n}{\\underset{k}{\\Sigma}}A_{i,k}B{k,j}$$\n",
    "- Called standard product or matrix product.\n",
    "- Common calculation rules\n",
    "    - $(k\\mathbf{A})\\mathbf{B}=k(\\mathbf{A}\\mathbf{B})=\\mathbf{A}(k\\mathbf{B})$\n",
    "    - $\\mathbf{A}(\\mathbf{B}\\mathbf{C})=(\\mathbf{A}\\mathbf{B})\\mathbf{C}$\n",
    "    - $(\\mathbf{A}+\\mathbf{B})\\mathbf{C}=\\mathbf{A}\\mathbf{C}+\\mathbf{B}\\mathbf{C}$\n",
    "    - $\\mathbf{C}(\\mathbf{A}+\\mathbf{B})=\\mathbf{C}\\mathbf{A}+\\mathbf{C}\\mathbf{B}$"
   ]
  },
  {
   "cell_type": "markdown",
   "id": "cd499984",
   "metadata": {},
   "source": [
    "### Element-wise product\n",
    "- A matrix containing the product of the individual elements from two matrix have the same size.\n",
    "- Denoted by $\\mathbf{C}=\\mathbf{A}\\odot\\mathbf{B}$ where $C_{i,j}=A_{i,j}\\cdot B_{i,j}$\n",
    "- Also called Hadamard product"
   ]
  },
  {
   "cell_type": "code",
   "execution_count": null,
   "id": "4d530168",
   "metadata": {},
   "outputs": [],
   "source": []
  }
 ],
 "metadata": {
  "kernelspec": {
   "display_name": "DeepLearning",
   "language": "python",
   "name": "deeplearning"
  },
  "language_info": {
   "codemirror_mode": {
    "name": "ipython",
    "version": 3
   },
   "file_extension": ".py",
   "mimetype": "text/x-python",
   "name": "python",
   "nbconvert_exporter": "python",
   "pygments_lexer": "ipython3",
   "version": "3.8.8"
  },
  "toc": {
   "base_numbering": 1,
   "nav_menu": {},
   "number_sections": true,
   "sideBar": true,
   "skip_h1_title": false,
   "title_cell": "Table of Contents",
   "title_sidebar": "Contents",
   "toc_cell": false,
   "toc_position": {},
   "toc_section_display": true,
   "toc_window_display": false
  },
  "varInspector": {
   "cols": {
    "lenName": 16,
    "lenType": 16,
    "lenVar": 40
   },
   "kernels_config": {
    "python": {
     "delete_cmd_postfix": "",
     "delete_cmd_prefix": "del ",
     "library": "var_list.py",
     "varRefreshCmd": "print(var_dic_list())"
    },
    "r": {
     "delete_cmd_postfix": ") ",
     "delete_cmd_prefix": "rm(",
     "library": "var_list.r",
     "varRefreshCmd": "cat(var_dic_list()) "
    }
   },
   "types_to_exclude": [
    "module",
    "function",
    "builtin_function_or_method",
    "instance",
    "_Feature"
   ],
   "window_display": false
  }
 },
 "nbformat": 4,
 "nbformat_minor": 5
}
