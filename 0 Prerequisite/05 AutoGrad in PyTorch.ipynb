{
 "cells": [
  {
   "cell_type": "markdown",
   "id": "5ea32dc6",
   "metadata": {},
   "source": [
    "**Information**: *Brief introduction to Tensor in PyTorch, automatic differentiation theory, how to use AutoGrad in PyTorch and two simple examples*\n",
    "\n",
    "**Written by**: *Zihao Xu*\n",
    "\n",
    "**Last updated date:** *Oct.15.2021*"
   ]
  },
  {
   "cell_type": "markdown",
   "id": "1500d6eb",
   "metadata": {},
   "source": [
    "# Data Manipulation via PyTorch\n",
    "- The $n$-dimensional array is usually called the tensor\n",
    "- *tensor* class in Pytorch is similar to *NumPy*'s *ndarray* with several additional features\n",
    "    - GPU is well-supported to accelerate the computation whereas *NumPy* only supports CPU computation\n",
    "    - *tensor* class supports automatic differentiation\n",
    "- The [Pytorch documentation](https://pytorch.org/docs/master/torch.html) shows the full attributes\n",
    "\n",
    "## Create a tensor\n",
    "- To get started, import **torch**. Although it's called PyTorch, we should import **torch** instead of pytorch"
   ]
  },
  {
   "cell_type": "code",
   "execution_count": 1,
   "id": "90375a8a",
   "metadata": {},
   "outputs": [
    {
     "name": "stdout",
     "output_type": "stream",
     "text": [
      "1.9.0\n"
     ]
    }
   ],
   "source": [
    "import torch\n",
    "# Check the version of a module\n",
    "print(torch.__version__)"
   ]
  },
  {
   "cell_type": "markdown",
   "id": "c8985db7",
   "metadata": {},
   "source": [
    "- Common ways to creating a tensor\n",
    "    - torch.arange(start,end,step)\n",
    "    - torch.zeros(shape)\n",
    "    - torch.ones(shape)\n",
    "    - torch.randn(shape)\n",
    "    - torch.tensor(elements)"
   ]
  },
  {
   "cell_type": "code",
   "execution_count": 2,
   "id": "5622544c",
   "metadata": {},
   "outputs": [
    {
     "data": {
      "text/plain": [
       "tensor([ 0,  1,  2,  3,  4,  5,  6,  7,  8,  9, 10, 11])"
      ]
     },
     "execution_count": 2,
     "metadata": {},
     "output_type": "execute_result"
    }
   ],
   "source": [
    "torch.arange(0, 12, 1)"
   ]
  },
  {
   "cell_type": "code",
   "execution_count": 3,
   "id": "634b6811",
   "metadata": {},
   "outputs": [
    {
     "data": {
      "text/plain": [
       "tensor([[0., 0., 0., 0.],\n",
       "        [0., 0., 0., 0.],\n",
       "        [0., 0., 0., 0.]])"
      ]
     },
     "execution_count": 3,
     "metadata": {},
     "output_type": "execute_result"
    }
   ],
   "source": [
    "torch.zeros((3, 4))"
   ]
  },
  {
   "cell_type": "code",
   "execution_count": 4,
   "id": "4bc3d02d",
   "metadata": {},
   "outputs": [
    {
     "data": {
      "text/plain": [
       "tensor([[1., 1., 1., 1., 1.],\n",
       "        [1., 1., 1., 1., 1.]])"
      ]
     },
     "execution_count": 4,
     "metadata": {},
     "output_type": "execute_result"
    }
   ],
   "source": [
    "torch.ones((2, 5))"
   ]
  },
  {
   "cell_type": "code",
   "execution_count": 5,
   "id": "0c9e6a2f",
   "metadata": {},
   "outputs": [
    {
     "data": {
      "text/plain": [
       "tensor([-0.3327,  0.2113,  0.2944,  0.0422,  0.0352, -0.7813, -1.9083, -0.6946,\n",
       "        -1.0405,  0.6455])"
      ]
     },
     "execution_count": 5,
     "metadata": {},
     "output_type": "execute_result"
    }
   ],
   "source": [
    "torch.randn(10)"
   ]
  },
  {
   "cell_type": "code",
   "execution_count": 6,
   "id": "a1136681",
   "metadata": {},
   "outputs": [
    {
     "data": {
      "text/plain": [
       "tensor([[1, 2, 3],\n",
       "        [4, 5, 6]])"
      ]
     },
     "execution_count": 6,
     "metadata": {},
     "output_type": "execute_result"
    }
   ],
   "source": [
    "torch.tensor([[1, 2, 3], [4, 5, 6]])"
   ]
  },
  {
   "cell_type": "markdown",
   "id": "6776c7ef",
   "metadata": {},
   "source": [
    "- One can access a tensor's shape by viewing the **shape** attribute"
   ]
  },
  {
   "cell_type": "code",
   "execution_count": 7,
   "id": "b96d64e6",
   "metadata": {},
   "outputs": [
    {
     "data": {
      "text/plain": [
       "torch.Size([4, 5])"
      ]
     },
     "execution_count": 7,
     "metadata": {},
     "output_type": "execute_result"
    }
   ],
   "source": [
    "torch.ones((4, 5)).shape"
   ]
  },
  {
   "cell_type": "markdown",
   "id": "b9384d43",
   "metadata": {},
   "source": [
    "- **reshape** method can change the shape of a tensor without altering either the number of elements or their values.\n",
    "    - No need to manually specify every dimension\n",
    "    - Can place $-1$ for the dimension that we would like tensors to automatically infer"
   ]
  },
  {
   "cell_type": "code",
   "execution_count": 8,
   "id": "a93e06b9",
   "metadata": {},
   "outputs": [
    {
     "data": {
      "text/plain": [
       "tensor([[ 0,  1,  2,  3],\n",
       "        [ 4,  5,  6,  7],\n",
       "        [ 8,  9, 10, 11]])"
      ]
     },
     "execution_count": 8,
     "metadata": {},
     "output_type": "execute_result"
    }
   ],
   "source": [
    "torch.arange(12).reshape(3, 4)"
   ]
  },
  {
   "cell_type": "code",
   "execution_count": 9,
   "id": "589f6f01",
   "metadata": {},
   "outputs": [
    {
     "data": {
      "text/plain": [
       "tensor([[ 0,  1,  2,  3],\n",
       "        [ 4,  5,  6,  7],\n",
       "        [ 8,  9, 10, 11]])"
      ]
     },
     "execution_count": 9,
     "metadata": {},
     "output_type": "execute_result"
    }
   ],
   "source": [
    "torch.arange(12).reshape(3, -1)"
   ]
  },
  {
   "cell_type": "markdown",
   "id": "b761be71",
   "metadata": {},
   "source": [
    "## Type of a tensor\n",
    "- Usually, a tensor is created as **tensor.float32** (32-bit floating point) by default. One can view its type in the **dtype** attribute\n",
    "    - When creating a tensor using **torch.tensor**, tensor with all integers would be created as **torch.int64** (64-bit signed integer)\n",
    "- Full tensor types can be viewed in the [documentation](https://pytorch.org/docs/master/tensor_attributes.html#torch.torch.dtype)"
   ]
  },
  {
   "cell_type": "code",
   "execution_count": 10,
   "id": "6f011f53",
   "metadata": {},
   "outputs": [
    {
     "data": {
      "text/plain": [
       "torch.float32"
      ]
     },
     "execution_count": 10,
     "metadata": {},
     "output_type": "execute_result"
    }
   ],
   "source": [
    "torch.ones(10).dtype"
   ]
  },
  {
   "cell_type": "code",
   "execution_count": 11,
   "id": "dcf2b65c",
   "metadata": {},
   "outputs": [
    {
     "data": {
      "text/plain": [
       "torch.int64"
      ]
     },
     "execution_count": 11,
     "metadata": {},
     "output_type": "execute_result"
    }
   ],
   "source": [
    "torch.tensor([[1, 2, 3], [4, 5, 6]]).dtype"
   ]
  },
  {
   "cell_type": "code",
   "execution_count": 12,
   "id": "eb5c3d2d",
   "metadata": {},
   "outputs": [
    {
     "data": {
      "text/plain": [
       "torch.float32"
      ]
     },
     "execution_count": 12,
     "metadata": {},
     "output_type": "execute_result"
    }
   ],
   "source": [
    "# Only add one dot after the first element\n",
    "torch.tensor([[1., 2, 3], [4, 5, 6]]).dtype"
   ]
  },
  {
   "cell_type": "markdown",
   "id": "1ed3bf0c",
   "metadata": {},
   "source": [
    "- One can assign the wanted type when creating the tensor by setting the **dtype** attribute to\n",
    "    - *torch.float32*, 32-bit floating point\n",
    "    - *torch.float64*, 64-bit floating point\n",
    "    - *torch.uint8*, 8-bit unsigned integer\n",
    "    - *torch.int8*, 8-bit signed integer\n",
    "    - *torch.int32*, 32-bit signed integer\n",
    "    - *torch.int64*, 64-bit signed integer\n",
    "    - *torch.bool*, Boolean"
   ]
  },
  {
   "cell_type": "code",
   "execution_count": 13,
   "id": "86961bf9",
   "metadata": {},
   "outputs": [
    {
     "data": {
      "text/plain": [
       "torch.float64"
      ]
     },
     "execution_count": 13,
     "metadata": {},
     "output_type": "execute_result"
    }
   ],
   "source": [
    "torch.ones(10, dtype=torch.float64).dtype"
   ]
  },
  {
   "cell_type": "code",
   "execution_count": 14,
   "id": "8491f414",
   "metadata": {},
   "outputs": [
    {
     "data": {
      "text/plain": [
       "torch.uint8"
      ]
     },
     "execution_count": 14,
     "metadata": {},
     "output_type": "execute_result"
    }
   ],
   "source": [
    "torch.ones(10, dtype=torch.uint8).dtype"
   ]
  },
  {
   "cell_type": "code",
   "execution_count": 15,
   "id": "b2110d35",
   "metadata": {},
   "outputs": [
    {
     "data": {
      "text/plain": [
       "torch.int32"
      ]
     },
     "execution_count": 15,
     "metadata": {},
     "output_type": "execute_result"
    }
   ],
   "source": [
    "torch.ones(10, dtype=torch.int32).dtype"
   ]
  },
  {
   "cell_type": "markdown",
   "id": "304eb230",
   "metadata": {},
   "source": [
    "- One can also construct the type of a tensor from list or numpy array using the method:\n",
    "    - *FloatTensor*, 32-bit floating point\n",
    "    - *DoubleTensor*, 64-bit floating point\n",
    "    - *ByteTensor*, 8-bit unsigned integer\n",
    "    - *CharTensor*, 8-bit signed integer\n",
    "    - *IntTensor*, 32-bit signed integer\n",
    "    - *LongTensor*, 64-bit signed integer\n",
    "    - *BoolTensor*, Boolean"
   ]
  },
  {
   "cell_type": "code",
   "execution_count": 16,
   "id": "8a74916c",
   "metadata": {},
   "outputs": [
    {
     "data": {
      "text/plain": [
       "torch.float64"
      ]
     },
     "execution_count": 16,
     "metadata": {},
     "output_type": "execute_result"
    }
   ],
   "source": [
    "torch.DoubleTensor([1, 2, 3]).dtype"
   ]
  },
  {
   "cell_type": "code",
   "execution_count": 17,
   "id": "7a5f6b9e",
   "metadata": {},
   "outputs": [
    {
     "data": {
      "text/plain": [
       "torch.uint8"
      ]
     },
     "execution_count": 17,
     "metadata": {},
     "output_type": "execute_result"
    }
   ],
   "source": [
    "torch.ByteTensor([1, 2, 3]).dtype"
   ]
  },
  {
   "cell_type": "markdown",
   "id": "1c650a54",
   "metadata": {},
   "source": [
    "## Use GPU for tensor computation\n",
    "- Unless otherwise specified, a new tensor will be stored in main memory and designated for CPU-based computation\n",
    "- One can check which device the tensor is designated for by viewing the **device** attribute"
   ]
  },
  {
   "cell_type": "code",
   "execution_count": 18,
   "id": "d9f466b4",
   "metadata": {},
   "outputs": [
    {
     "data": {
      "text/plain": [
       "device(type='cpu')"
      ]
     },
     "execution_count": 18,
     "metadata": {},
     "output_type": "execute_result"
    }
   ],
   "source": [
    "torch.ones(10).device"
   ]
  },
  {
   "cell_type": "markdown",
   "id": "7462c8f8",
   "metadata": {},
   "source": [
    "- One can always set the create a device if a GPU supporting cuda is available and use **to(device)** method to determine the device on which a tensor is or will be allocated\n",
    "    - Assign the **device** parameter when creating a tensor also works"
   ]
  },
  {
   "cell_type": "code",
   "execution_count": 19,
   "id": "a060ecb4",
   "metadata": {},
   "outputs": [
    {
     "data": {
      "text/plain": [
       "device(type='cuda', index=0)"
      ]
     },
     "execution_count": 19,
     "metadata": {},
     "output_type": "execute_result"
    }
   ],
   "source": [
    "cuda0 = torch.device(\"cuda:0\" if torch.cuda.is_available() else \"cpu\")\n",
    "cuda0"
   ]
  },
  {
   "cell_type": "code",
   "execution_count": 20,
   "id": "be023202",
   "metadata": {},
   "outputs": [
    {
     "data": {
      "text/plain": [
       "tensor([1., 1., 1., 1., 1.], device='cuda:0')"
      ]
     },
     "execution_count": 20,
     "metadata": {},
     "output_type": "execute_result"
    }
   ],
   "source": [
    "torch.ones(5, device=cuda0)"
   ]
  },
  {
   "cell_type": "code",
   "execution_count": 21,
   "id": "b9ddb5e8",
   "metadata": {},
   "outputs": [
    {
     "data": {
      "text/plain": [
       "tensor([1., 1., 1., 1., 1.], device='cuda:0')"
      ]
     },
     "execution_count": 21,
     "metadata": {},
     "output_type": "execute_result"
    }
   ],
   "source": [
    "# If available, indexing the cuda also works\n",
    "torch.ones(5, device=0)"
   ]
  },
  {
   "cell_type": "code",
   "execution_count": 22,
   "id": "ace68d40",
   "metadata": {},
   "outputs": [
    {
     "data": {
      "text/plain": [
       "tensor([1., 1., 1., 1., 1.], device='cuda:0')"
      ]
     },
     "execution_count": 22,
     "metadata": {},
     "output_type": "execute_result"
    }
   ],
   "source": [
    "# If avaiable, the string also works\n",
    "torch.ones(5, device=\"cuda:0\")"
   ]
  },
  {
   "cell_type": "code",
   "execution_count": 23,
   "id": "5ef318d1",
   "metadata": {},
   "outputs": [
    {
     "data": {
      "text/plain": [
       "tensor([1., 1., 1., 1., 1.], device='cuda:0')"
      ]
     },
     "execution_count": 23,
     "metadata": {},
     "output_type": "execute_result"
    }
   ],
   "source": [
    "# Use the to method the move a tensor\n",
    "x = torch.ones(5).to(cuda0)\n",
    "x"
   ]
  },
  {
   "cell_type": "code",
   "execution_count": 24,
   "id": "0260ae5d",
   "metadata": {},
   "outputs": [
    {
     "data": {
      "text/plain": [
       "device(type='cpu')"
      ]
     },
     "execution_count": 24,
     "metadata": {},
     "output_type": "execute_result"
    }
   ],
   "source": [
    "# One can also move a tensor from GPU to CPU\n",
    "x.to(\"cpu\").device"
   ]
  },
  {
   "cell_type": "markdown",
   "id": "015f0de6",
   "metadata": {},
   "source": [
    "## Operations\n",
    "- Common standard arithmetic operators have all been lifted to element-wise operations"
   ]
  },
  {
   "cell_type": "code",
   "execution_count": 25,
   "id": "c7d114cd",
   "metadata": {},
   "outputs": [
    {
     "data": {
      "text/plain": [
       "(tensor([2., 3., 5., 9.]), tensor([1., 2., 4., 8.]), tensor([1., 2., 4., 8.]))"
      ]
     },
     "execution_count": 25,
     "metadata": {},
     "output_type": "execute_result"
    }
   ],
   "source": [
    "x = torch.tensor([1., 2., 4., 8.])\n",
    "c = 1.\n",
    "x + c, x * c, x**c"
   ]
  },
  {
   "cell_type": "code",
   "execution_count": 26,
   "id": "6b63b1c5",
   "metadata": {},
   "outputs": [
    {
     "data": {
      "text/plain": [
       "(tensor([5., 5., 6., 9.]),\n",
       " tensor([4., 6., 8., 8.]),\n",
       " tensor([ 1.,  8., 16.,  8.]))"
      ]
     },
     "execution_count": 26,
     "metadata": {},
     "output_type": "execute_result"
    }
   ],
   "source": [
    "x = torch.tensor([1., 2., 4., 8.])\n",
    "y = torch.tensor([4., 3., 2., 1.])\n",
    "x + y, x * y, x**y"
   ]
  },
  {
   "cell_type": "code",
   "execution_count": 27,
   "id": "e6e90a70",
   "metadata": {},
   "outputs": [
    {
     "data": {
      "text/plain": [
       "tensor([2.7183e+00, 7.3891e+00, 5.4598e+01, 2.9810e+03])"
      ]
     },
     "execution_count": 27,
     "metadata": {},
     "output_type": "execute_result"
    }
   ],
   "source": [
    "torch.exp(x)"
   ]
  },
  {
   "cell_type": "markdown",
   "id": "a5445c80",
   "metadata": {},
   "source": [
    "- Matrix multiplication is also supported"
   ]
  },
  {
   "cell_type": "code",
   "execution_count": 28,
   "id": "f0efd961",
   "metadata": {},
   "outputs": [
    {
     "data": {
      "text/plain": [
       "(tensor([[ 0.8546,  0.1571, -2.2167,  1.5837,  2.5054],\n",
       "         [ 0.6336,  1.0928,  0.7490, -0.3794,  1.7232],\n",
       "         [ 0.5061,  0.5913, -0.7846,  0.0725, -0.3134],\n",
       "         [-0.2752,  0.3098,  2.1717, -1.0232,  0.5778]]),\n",
       " tensor([[ 0.8546,  0.1571, -2.2167,  1.5837,  2.5054],\n",
       "         [ 0.6336,  1.0928,  0.7490, -0.3794,  1.7232],\n",
       "         [ 0.5061,  0.5913, -0.7846,  0.0725, -0.3134],\n",
       "         [-0.2752,  0.3098,  2.1717, -1.0232,  0.5778]]))"
      ]
     },
     "execution_count": 28,
     "metadata": {},
     "output_type": "execute_result"
    }
   ],
   "source": [
    "A = torch.randn((4, 3))\n",
    "B = torch.randn((3, 5))\n",
    "# Two ways of matrix multiplication\n",
    "torch.mm(A, B), A @ B"
   ]
  },
  {
   "cell_type": "code",
   "execution_count": 29,
   "id": "26721b14",
   "metadata": {},
   "outputs": [
    {
     "data": {
      "text/plain": [
       "(tensor([[-0.0953,  0.1824,  0.4727, -0.2933],\n",
       "         [ 0.3142,  2.1985, -0.4609,  0.2344],\n",
       "         [ 1.4297, -1.0943, -0.6723, -0.3793],\n",
       "         [ 0.0246,  0.9838,  0.0252, -0.2256],\n",
       "         [-0.4572, -0.1750,  0.2041,  1.0399]]),\n",
       " tensor([[-0.0953,  0.1824,  0.4727, -0.2933],\n",
       "         [ 0.3142,  2.1985, -0.4609,  0.2344],\n",
       "         [ 1.4297, -1.0943, -0.6723, -0.3793],\n",
       "         [ 0.0246,  0.9838,  0.0252, -0.2256],\n",
       "         [-0.4572, -0.1750,  0.2041,  1.0399]]))"
      ]
     },
     "execution_count": 29,
     "metadata": {},
     "output_type": "execute_result"
    }
   ],
   "source": [
    "A = torch.randn((5, 4))\n",
    "B = torch.randn((5, 4))\n",
    "# Two ways of elementwise multiplication\n",
    "torch.mul(A, B), A * B"
   ]
  },
  {
   "cell_type": "markdown",
   "id": "cdba5f4b",
   "metadata": {},
   "source": [
    "- We can also **concatenate** multiple tensors together, stacking them end-to-end to form a larger tensor. We just need to provide a list of tensors and tell the system along which axis to concatenate. "
   ]
  },
  {
   "cell_type": "code",
   "execution_count": 30,
   "id": "3e96d8fa",
   "metadata": {},
   "outputs": [
    {
     "data": {
      "text/plain": [
       "(tensor([[ 0.,  1.,  2.,  3.],\n",
       "         [ 4.,  5.,  6.,  7.],\n",
       "         [ 8.,  9., 10., 11.],\n",
       "         [ 1.,  1.,  1.,  1.],\n",
       "         [ 1.,  1.,  1.,  1.],\n",
       "         [ 1.,  1.,  1.,  1.]]),\n",
       " tensor([[ 0.,  1.,  2.,  3.,  1.,  1.,  1.,  1.],\n",
       "         [ 4.,  5.,  6.,  7.,  1.,  1.,  1.,  1.],\n",
       "         [ 8.,  9., 10., 11.,  1.,  1.,  1.,  1.]]))"
      ]
     },
     "execution_count": 30,
     "metadata": {},
     "output_type": "execute_result"
    }
   ],
   "source": [
    "A = torch.arange(0, 12, 1).reshape((3, 4))\n",
    "B = torch.ones((3, 4))\n",
    "# dim stands for the index of dimension in which the tensors are concatenated\n",
    "torch.cat((A, B), dim=0), torch.cat((A, B), dim=1)"
   ]
  },
  {
   "cell_type": "markdown",
   "id": "2eda7505",
   "metadata": {},
   "source": [
    "- Also, we can construct a binary tensor via logical statements"
   ]
  },
  {
   "cell_type": "code",
   "execution_count": 31,
   "id": "4dc724f6",
   "metadata": {},
   "outputs": [
    {
     "data": {
      "text/plain": [
       "(tensor([[False, False, False, False],\n",
       "         [False,  True, False, False],\n",
       "         [False, False, False, False]]),\n",
       " tensor([[False, False, False, False],\n",
       "         [False, False,  True,  True],\n",
       "         [ True,  True,  True,  True]]))"
      ]
     },
     "execution_count": 31,
     "metadata": {},
     "output_type": "execute_result"
    }
   ],
   "source": [
    "A = torch.arange(0, 12, 1).reshape((3, 4))\n",
    "B = 5 * torch.ones((3, 4))\n",
    "A == B, A > B"
   ]
  },
  {
   "cell_type": "markdown",
   "id": "cb0aee03",
   "metadata": {},
   "source": [
    "## Broadcasting Mechanism\n",
    "- Under certain conditions, even shapes differ, we can still perform **element-wise** operations by invoking the **broadcasting mechanism**.\n",
    "    - First, expand one or both arrays by copying elements appropriately so that after this transformation, the two tensors have the same shape.\n",
    "    - Second, carry out the element-wise operation on the resulting arrays\n",
    "- In most cases, we broadcast along an axis where an array initially only has length 1"
   ]
  },
  {
   "cell_type": "code",
   "execution_count": 32,
   "id": "45019e2c",
   "metadata": {},
   "outputs": [
    {
     "data": {
      "text/plain": [
       "(tensor([[0],\n",
       "         [1],\n",
       "         [2]]),\n",
       " tensor([[0, 1]]),\n",
       " tensor([[0, 1],\n",
       "         [1, 2],\n",
       "         [2, 3]]))"
      ]
     },
     "execution_count": 32,
     "metadata": {},
     "output_type": "execute_result"
    }
   ],
   "source": [
    "a = torch.arange(3).reshape(3, 1)\n",
    "b = torch.arange(2).reshape(1, 2)\n",
    "a, b, a + b"
   ]
  },
  {
   "cell_type": "markdown",
   "id": "ab2ba5bc",
   "metadata": {},
   "source": [
    "## Indexing and Slicing\n",
    "- As in standard Python lists, we can access elements according to their relative position to the end of the list by using negative indices"
   ]
  },
  {
   "cell_type": "code",
   "execution_count": 33,
   "id": "e7076ad6",
   "metadata": {},
   "outputs": [
    {
     "data": {
      "text/plain": [
       "(tensor([[ 0,  1,  2,  3],\n",
       "         [ 4,  5,  6,  7],\n",
       "         [ 8,  9, 10, 11],\n",
       "         [12, 13, 14, 15]]),\n",
       " tensor([12, 13, 14, 15]),\n",
       " tensor([[ 4,  5,  6,  7],\n",
       "         [ 8,  9, 10, 11]]))"
      ]
     },
     "execution_count": 33,
     "metadata": {},
     "output_type": "execute_result"
    }
   ],
   "source": [
    "X = torch.arange(16).reshape(4, 4)\n",
    "X, X[-1], X[1:3]"
   ]
  },
  {
   "cell_type": "markdown",
   "id": "f07d4e41",
   "metadata": {},
   "source": [
    "- Can also index using binary tensor"
   ]
  },
  {
   "cell_type": "code",
   "execution_count": 34,
   "id": "b7a5e4c5",
   "metadata": {},
   "outputs": [
    {
     "data": {
      "text/plain": [
       "(tensor([[ 0,  1,  2,  3],\n",
       "         [ 4,  5,  6,  7],\n",
       "         [ 8,  9, 10, 11]]),\n",
       " tensor([[5., 5., 5., 5.],\n",
       "         [5., 5., 5., 5.],\n",
       "         [5., 5., 5., 5.]]),\n",
       " tensor([ 6,  7,  8,  9, 10, 11]))"
      ]
     },
     "execution_count": 34,
     "metadata": {},
     "output_type": "execute_result"
    }
   ],
   "source": [
    "A = torch.arange(0, 12, 1).reshape((3, 4))\n",
    "B = 5 * torch.ones((3, 4))\n",
    "A, B, A[A > B]"
   ]
  },
  {
   "cell_type": "markdown",
   "id": "687902f6",
   "metadata": {},
   "source": [
    "%%latex\n",
    "\\newpage"
   ]
  },
  {
   "cell_type": "markdown",
   "id": "8ec3a352",
   "metadata": {},
   "source": [
    "# Automatic Calculation of Gradients\n",
    "- In practice, based on our designed model, the system builds a **computational graph**, tracking which data combined through which operations to produce the output. Automatic differentiation enables the system to subsequently **backpropagate gradients**.\n",
    "    - Here *backpropagate* simply means to trace through the computational graph, filling in the partial derivatives with respect to each parameter\n",
    "\n",
    "## Intuition\n",
    "- All computation can be broken into simple components\n",
    "    - sum\n",
    "    - multiply\n",
    "    - exponential\n",
    "    - convolution\n",
    "    - ...\n",
    "- Derivatives for each simple component can be derived mathematically\n",
    "- Derivatives for **any composition** can be derived via **chain rule**"
   ]
  },
  {
   "cell_type": "markdown",
   "id": "b2e701f9",
   "metadata": {},
   "source": [
    "## Automatic Differentiation - Forward Mode\n",
    "- **Notice:** Here is only my naive understanding about automatic differentiation since I haven't found some detailed mathematical explanation about it.\n",
    "- One naive way of find the partial derivative respect to $i$-th variable $\\frac{\\partial f}{\\partial x_i}$ in the function $$f=f(x_1,x_2,\\cdots,x_n)$$ the simplest way is to **construct** the chain rule ($\\frac{\\partial f}{\\partial t}$ is actually meaningless in this context) $$\\frac{\\partial f}{\\partial t}=\\underset{j=1}{\\overset{n}{\\Sigma}}\\frac{\\partial f}{\\partial x_j}\\frac{\\partial x_j}{\\partial t}$$ by setting $$\\frac{\\partial x_j}{\\partial t}=\\left\\{\\begin{aligned}&1&j=i\\\\&0&j\\ne i\\end{aligned}\\right.$$ we get $$\\frac{\\partial f}{\\partial t}=\\frac{\\partial f}{\\partial x_i}$$\n",
    "- That is to say, for each **decomposed simple operation**, the computer does not only calculate the **output**, but also tracks the **derivatives of output respect to time** based on the input value and input derivative, thus **step by step** getting the final derivative respect to time, which is equal to the partial derivative\n",
    "- Since the computation is **straight forward**, this method to calculate partial derivative is called **forward mode**.\n",
    "- For example, for a function $$f(x_1,x_2)=\\text{ln}(x_1)+x_1x_2-\\text{sin}(x_2)$$ Decompose the function into simple operation nodes $$\\begin{aligned}v_{-1}&=x_1\\\\v_0&=x_2\\\\v_1&=\\text{ln}v_{-1}\\\\v_2&=v_{-1}\\times v_0\\\\v_3&=\\text{sin}v_0\\\\v_4&=v_1+v_2\\\\v_5&=v_4-v_3\\\\y&=v_5\\end{aligned}$$The forward mode computation graph is shown below"
   ]
  },
  {
   "cell_type": "code",
   "execution_count": 35,
   "id": "6af7c1f0",
   "metadata": {},
   "outputs": [
    {
     "data": {
      "image/svg+xml": [
       "<?xml version=\"1.0\" encoding=\"UTF-8\" standalone=\"no\"?>\r\n",
       "<!DOCTYPE svg PUBLIC \"-//W3C//DTD SVG 1.1//EN\"\r\n",
       " \"http://www.w3.org/Graphics/SVG/1.1/DTD/svg11.dtd\">\r\n",
       "<!-- Generated by graphviz version 2.47.2 (20210527.0053)\r\n",
       " -->\r\n",
       "<!-- Title: ComputationGraph Pages: 1 -->\r\n",
       "<svg width=\"277pt\" height=\"151pt\"\r\n",
       " viewBox=\"0.00 0.00 277.19 151.00\" xmlns=\"http://www.w3.org/2000/svg\" xmlns:xlink=\"http://www.w3.org/1999/xlink\">\r\n",
       "<g id=\"graph0\" class=\"graph\" transform=\"scale(1 1) rotate(0) translate(4 147)\">\r\n",
       "<title>ComputationGraph</title>\r\n",
       "<polygon fill=\"white\" stroke=\"transparent\" points=\"-4,4 -4,-147 273.19,-147 273.19,4 -4,4\"/>\r\n",
       "<!-- v_&#45;1 -->\r\n",
       "<g id=\"node1\" class=\"node\">\r\n",
       "<title>v_&#45;1</title>\r\n",
       "<ellipse fill=\"none\" stroke=\"black\" cx=\"22.1\" cy=\"-112.5\" rx=\"22.2\" ry=\"22.2\"/>\r\n",
       "<text text-anchor=\"start\" x=\"13.1\" y=\"-109.8\" font-family=\"Times New Roman,serif\" font-size=\"14.00\">v</text>\r\n",
       "<text text-anchor=\"start\" x=\"20.1\" y=\"-109.8\" font-family=\"Times New Roman,serif\" baseline-shift=\"sub\" font-size=\"14.00\">&#45;1</text>\r\n",
       "</g>\r\n",
       "<!-- v_1 -->\r\n",
       "<g id=\"node3\" class=\"node\">\r\n",
       "<title>v_1</title>\r\n",
       "<ellipse fill=\"none\" stroke=\"black\" cx=\"99.69\" cy=\"-123.5\" rx=\"19.5\" ry=\"19.5\"/>\r\n",
       "<text text-anchor=\"start\" x=\"92.69\" y=\"-120.8\" font-family=\"Times New Roman,serif\" font-size=\"14.00\">v</text>\r\n",
       "<text text-anchor=\"start\" x=\"99.69\" y=\"-120.8\" font-family=\"Times New Roman,serif\" baseline-shift=\"sub\" font-size=\"14.00\">1</text>\r\n",
       "</g>\r\n",
       "<!-- v_&#45;1&#45;&gt;v_1 -->\r\n",
       "<g id=\"edge1\" class=\"edge\">\r\n",
       "<title>v_&#45;1&#45;&gt;v_1</title>\r\n",
       "<path fill=\"none\" stroke=\"black\" d=\"M44.16,-115.56C52.23,-116.74 61.58,-118.1 70.24,-119.36\"/>\r\n",
       "<polygon fill=\"black\" stroke=\"black\" points=\"69.92,-122.85 80.32,-120.82 70.93,-115.92 69.92,-122.85\"/>\r\n",
       "</g>\r\n",
       "<!-- v_2 -->\r\n",
       "<g id=\"node4\" class=\"node\">\r\n",
       "<title>v_2</title>\r\n",
       "<ellipse fill=\"none\" stroke=\"black\" cx=\"99.69\" cy=\"-66.5\" rx=\"19.5\" ry=\"19.5\"/>\r\n",
       "<text text-anchor=\"start\" x=\"92.69\" y=\"-63.8\" font-family=\"Times New Roman,serif\" font-size=\"14.00\">v</text>\r\n",
       "<text text-anchor=\"start\" x=\"99.69\" y=\"-63.8\" font-family=\"Times New Roman,serif\" baseline-shift=\"sub\" font-size=\"14.00\">2</text>\r\n",
       "</g>\r\n",
       "<!-- v_&#45;1&#45;&gt;v_2 -->\r\n",
       "<g id=\"edge2\" class=\"edge\">\r\n",
       "<title>v_&#45;1&#45;&gt;v_2</title>\r\n",
       "<path fill=\"none\" stroke=\"black\" d=\"M41.4,-101.36C51.13,-95.44 63.24,-88.07 73.82,-81.64\"/>\r\n",
       "<polygon fill=\"black\" stroke=\"black\" points=\"75.89,-84.47 82.62,-76.28 72.25,-78.49 75.89,-84.47\"/>\r\n",
       "</g>\r\n",
       "<!-- v_0 -->\r\n",
       "<g id=\"node2\" class=\"node\">\r\n",
       "<title>v_0</title>\r\n",
       "<ellipse fill=\"none\" stroke=\"black\" cx=\"22.1\" cy=\"-41.5\" rx=\"19.5\" ry=\"19.5\"/>\r\n",
       "<text text-anchor=\"start\" x=\"15.1\" y=\"-38.8\" font-family=\"Times New Roman,serif\" font-size=\"14.00\">v</text>\r\n",
       "<text text-anchor=\"start\" x=\"22.1\" y=\"-38.8\" font-family=\"Times New Roman,serif\" baseline-shift=\"sub\" font-size=\"14.00\">0</text>\r\n",
       "</g>\r\n",
       "<!-- v_0&#45;&gt;v_2 -->\r\n",
       "<g id=\"edge3\" class=\"edge\">\r\n",
       "<title>v_0&#45;&gt;v_2</title>\r\n",
       "<path fill=\"none\" stroke=\"black\" d=\"M41.01,-47.42C50.05,-50.41 61.21,-54.1 71.3,-57.44\"/>\r\n",
       "<polygon fill=\"black\" stroke=\"black\" points=\"70.31,-60.8 80.91,-60.62 72.51,-54.15 70.31,-60.8\"/>\r\n",
       "</g>\r\n",
       "<!-- v_3 -->\r\n",
       "<g id=\"node5\" class=\"node\">\r\n",
       "<title>v_3</title>\r\n",
       "<ellipse fill=\"none\" stroke=\"black\" cx=\"174.69\" cy=\"-19.5\" rx=\"19.5\" ry=\"19.5\"/>\r\n",
       "<text text-anchor=\"start\" x=\"167.69\" y=\"-16.8\" font-family=\"Times New Roman,serif\" font-size=\"14.00\">v</text>\r\n",
       "<text text-anchor=\"start\" x=\"174.69\" y=\"-16.8\" font-family=\"Times New Roman,serif\" baseline-shift=\"sub\" font-size=\"14.00\">3</text>\r\n",
       "</g>\r\n",
       "<!-- v_0&#45;&gt;v_3 -->\r\n",
       "<g id=\"edge4\" class=\"edge\">\r\n",
       "<title>v_0&#45;&gt;v_3</title>\r\n",
       "<path fill=\"none\" stroke=\"black\" d=\"M41.56,-38.8C67.42,-35.02 114.65,-28.12 145.07,-23.68\"/>\r\n",
       "<polygon fill=\"black\" stroke=\"black\" points=\"145.69,-27.13 155.07,-22.22 144.67,-20.2 145.69,-27.13\"/>\r\n",
       "</g>\r\n",
       "<!-- v_4 -->\r\n",
       "<g id=\"node6\" class=\"node\">\r\n",
       "<title>v_4</title>\r\n",
       "<ellipse fill=\"none\" stroke=\"black\" cx=\"174.69\" cy=\"-76.5\" rx=\"19.5\" ry=\"19.5\"/>\r\n",
       "<text text-anchor=\"start\" x=\"167.69\" y=\"-73.8\" font-family=\"Times New Roman,serif\" font-size=\"14.00\">v</text>\r\n",
       "<text text-anchor=\"start\" x=\"174.69\" y=\"-73.8\" font-family=\"Times New Roman,serif\" baseline-shift=\"sub\" font-size=\"14.00\">4</text>\r\n",
       "</g>\r\n",
       "<!-- v_1&#45;&gt;v_4 -->\r\n",
       "<g id=\"edge5\" class=\"edge\">\r\n",
       "<title>v_1&#45;&gt;v_4</title>\r\n",
       "<path fill=\"none\" stroke=\"black\" d=\"M116.53,-113.3C126.1,-107.14 138.49,-99.16 149.28,-92.21\"/>\r\n",
       "<polygon fill=\"black\" stroke=\"black\" points=\"151.37,-95.03 157.88,-86.68 147.58,-89.15 151.37,-95.03\"/>\r\n",
       "</g>\r\n",
       "<!-- v_2&#45;&gt;v_4 -->\r\n",
       "<g id=\"edge6\" class=\"edge\">\r\n",
       "<title>v_2&#45;&gt;v_4</title>\r\n",
       "<path fill=\"none\" stroke=\"black\" d=\"M119.11,-69.02C127.07,-70.11 136.55,-71.41 145.37,-72.62\"/>\r\n",
       "<polygon fill=\"black\" stroke=\"black\" points=\"144.89,-76.09 155.28,-73.98 145.84,-69.15 144.89,-76.09\"/>\r\n",
       "</g>\r\n",
       "<!-- v_5 -->\r\n",
       "<g id=\"node7\" class=\"node\">\r\n",
       "<title>v_5</title>\r\n",
       "<ellipse fill=\"none\" stroke=\"black\" cx=\"249.69\" cy=\"-47.5\" rx=\"19.5\" ry=\"19.5\"/>\r\n",
       "<text text-anchor=\"start\" x=\"242.69\" y=\"-44.8\" font-family=\"Times New Roman,serif\" font-size=\"14.00\">v</text>\r\n",
       "<text text-anchor=\"start\" x=\"249.69\" y=\"-44.8\" font-family=\"Times New Roman,serif\" baseline-shift=\"sub\" font-size=\"14.00\">5</text>\r\n",
       "</g>\r\n",
       "<!-- v_3&#45;&gt;v_5 -->\r\n",
       "<g id=\"edge8\" class=\"edge\">\r\n",
       "<title>v_3&#45;&gt;v_5</title>\r\n",
       "<path fill=\"none\" stroke=\"black\" d=\"M193.36,-26.28C201.88,-29.54 212.28,-33.53 221.76,-37.17\"/>\r\n",
       "<polygon fill=\"black\" stroke=\"black\" points=\"220.59,-40.47 231.18,-40.78 223.1,-33.93 220.59,-40.47\"/>\r\n",
       "</g>\r\n",
       "<!-- v_4&#45;&gt;v_5 -->\r\n",
       "<g id=\"edge7\" class=\"edge\">\r\n",
       "<title>v_4&#45;&gt;v_5</title>\r\n",
       "<path fill=\"none\" stroke=\"black\" d=\"M192.99,-69.63C201.56,-66.22 212.11,-62.03 221.72,-58.21\"/>\r\n",
       "<polygon fill=\"black\" stroke=\"black\" points=\"223.26,-61.37 231.26,-54.42 220.67,-54.86 223.26,-61.37\"/>\r\n",
       "</g>\r\n",
       "</g>\r\n",
       "</svg>\r\n"
      ],
      "text/plain": [
       "<graphviz.dot.Digraph at 0x1693d964340>"
      ]
     },
     "execution_count": 35,
     "metadata": {},
     "output_type": "execute_result"
    }
   ],
   "source": [
    "from graphviz import Digraph\n",
    "\n",
    "f = Digraph('ComputationGraph')\n",
    "f.attr(rankdir='LR')\n",
    "f.attr('node', shape='circle')\n",
    "f.node('v_-1', label='<v<sub>-1</sub>>')\n",
    "f.node('v_0', label='<v<sub>0</sub>>')\n",
    "f.node('v_1', label='<v<sub>1</sub>>')\n",
    "f.node('v_2', label='<v<sub>2</sub>>')\n",
    "f.node('v_3', label='<v<sub>3</sub>>')\n",
    "f.node('v_4', label='<v<sub>4</sub>>')\n",
    "f.node('v_5', label='<v<sub>5</sub>>')\n",
    "f.edge('v_-1', 'v_1')\n",
    "f.edge('v_-1', 'v_2')\n",
    "f.edge('v_0', 'v_2')\n",
    "f.edge('v_0', 'v_3')\n",
    "f.edge('v_1', 'v_4')\n",
    "f.edge('v_2', 'v_4')\n",
    "f.edge('v_4', 'v_5')\n",
    "f.edge('v_3', 'v_5')\n",
    "f"
   ]
  },
  {
   "cell_type": "markdown",
   "id": "24a0df64",
   "metadata": {},
   "source": [
    "- To find the **partial derivate** $\\frac{\\partial f}{\\partial x_1}$ when $x_1=2,x_2=5$, compute along the **forward evaluation trace**  first:$$\\begin{aligned}v_{-1}&=&x_1&=&2\\\\v_{0}&=&x_2&=&5\\\\v_1&=&\\text{ln}v_{-1}&=&\\text{ln}2\\\\v_2&=&v_{-1}\\times v_0&=&2\\times 5\\\\v_3&=&\\text{sin}v_0&=&\\text{sin}5\\\\v_4&=&v_1+v_2&=&0.693+10\\\\v_5&=&v_4-v_3&=&10.693+0.959\\\\y&=&v_5&=&11.652\\end{aligned}$$ Then set $\\dot{x_1}=1,\\ \\dot{x_2}=0$ and compute along the **forward derivative trace** (maybe also computed simultaneously along with the forward evaluation trace)$$\\begin{aligned}\\dot{v}_{-1}&=&\\dot{x}_1&=&1\\\\ \\dot{v}_{0}&=&\\dot{x}_2&=&0\\\\ \\dot{v}_1&=&\\dot{v}_{-1}/v_{-1}&=&1/2\\\\ \\dot{v}_2&=&\\dot{v}_{-1}\\times v_0+\\dot{v}_0\\times v_{-1}&=&1\\times 5 +0\\times 2\\\\ \\dot{v}_3&=&\\dot{v}_0\\times\\text{cos}v_0&=&0\\times\\text{cos}5\\\\ \\dot{v}_4&=&\\dot{v}_1+\\dot{v}_2&=&0.5+5\\\\ \\dot{v}_5&=&\\dot{v}_4-\\dot{v}_3&=&5.5-0\\\\ \\dot{y}&=&\\dot{v}_5&=&5.5\\end{aligned}$$ Therefore, the result is $$\\frac{\\partial f}{\\partial x_1}=\\frac{\\partial f}{\\partial t}=5.5$$ If $\\frac{\\partial f}{\\partial x_2}$ is also interested, the **forward derivative trace** needs to be computed again when setting $\\dot{x}_1=0,\\dot{x}_2=1$\n",
    "- **Comments**:\n",
    "    - For a function $f:\\mathbb{R}^n\\Rightarrow\\mathbb{R}^m$ with input $\\mathbf{x}\\in\\mathbb{R}^n$ and output $\\mathbf{y}\\in\\mathbb{R}^m$, needs to calculate $n$ times along the **forward derivative trace** for the partial derivatives $$\\frac{\\partial \\mathbf{y}}{\\partial x_j},\\ j=1,2,\\cdots,n$$ by sequentially setting $$\\frac{\\partial x_j}{\\partial t}=\\left\\{\\begin{aligned}&1&j=i\\\\&0&j\\ne i\\end{aligned}\\right.,\\ i=1,2,\\cdots,n$$ and only one time along the **forward evaluation trace** for the $m$-dimension output values $$y_1,y_2,\\cdots,y_m$$\n",
    "    - Get the partial derivatives of **all outputs** respect to **one variable** after computing along the derivative trace once\n",
    "    - **High efficiency** when $n<<m$\n",
    "    - **Low efficiency** when $n>>m$, which is common in machine learning and deep learning"
   ]
  },
  {
   "cell_type": "markdown",
   "id": "afe0bf8e",
   "metadata": {},
   "source": [
    "## Automatic differentiation - Reverse Mode\n",
    "- Motivated by the **low efficiency** of *forward mode* when the derivatives of multiple variables are interested\n",
    "    - In machine learning and deep learning, usually the dimension of input parameters are huge (such as $10^6$) while the dimension of output is usually 1 (focusing on the loss function which produce a scalar)\n",
    "- To find the partial derivative respect to $i$-th variable $\\frac{\\partial f}{\\partial x_i}$ in the function $$f=f(x_1,x_2,\\cdots,x_n)$$ we can always decompose the function into simple operation nodes $$v_1,v_2,\\cdots,v_p$$ such that we can find some nodes $v_c,c\\in[1,M]$ to compose the derivative $$\\frac{\\partial y}{\\partial x_i}=\\frac{\\partial y}{\\partial v_{c_q}}\\frac{\\partial v_{c_{q}}}{\\partial v_{c_{q-1}}}\\cdots\\frac{\\partial v_{c_2}}{\\partial v_{c_1}}\\frac{\\partial v_{c_1}}{\\partial x_i}$$ Denote $$\\bar{v}_c=\\frac{\\partial y}{\\partial v_{c}}$$ The idea is to first compute following the **forward evaluation trace** same as that in *forward mode* while recording the **relationship** (such as the differential equation) between nodes, then sequentially calculate $$\\bar{v}_{c_q}=\\frac{\\partial y}{\\partial v_{c_q}},\\bar{v}_{c_{q-1}}=\\bar{v}_{c_q}\\frac{\\partial v_{c_q}}{\\partial v_{c_{q-1}}},\\cdots,\\frac{\\partial f}{\\partial x_i}=\\bar{v}_{c_1}\\frac{\\partial v_{c_1}}{\\partial x}$$\n",
    "- The example is still to find the partial derivatives at $x_1=2,x_2=5$ of the function $$f(x_1,x_2)=\\text{ln}(x_1)+x_1x_2-\\text{sin}(x_2)$$ Similarly, decompose the function into simple operation nodes $$\\begin{aligned}v_{-1}&=x_1\\\\v_0&=x_2\\\\v_1&=\\text{ln}v_{-1}\\\\v_2&=v_{-1}\\times v_0\\\\v_3&=\\text{sin}v_0\\\\v_4&=v_1+v_2\\\\v_5&=v_4-v_3\\\\y&=v_5\\end{aligned}$$ The **forward evaluation computation graph** would be the same of that in *forward mode*. Here show the **reverse adjoint computation graph**"
   ]
  },
  {
   "cell_type": "code",
   "execution_count": 36,
   "id": "6bb422e1",
   "metadata": {},
   "outputs": [
    {
     "data": {
      "image/svg+xml": [
       "<?xml version=\"1.0\" encoding=\"UTF-8\" standalone=\"no\"?>\r\n",
       "<!DOCTYPE svg PUBLIC \"-//W3C//DTD SVG 1.1//EN\"\r\n",
       " \"http://www.w3.org/Graphics/SVG/1.1/DTD/svg11.dtd\">\r\n",
       "<!-- Generated by graphviz version 2.47.2 (20210527.0053)\r\n",
       " -->\r\n",
       "<!-- Title: ComputationGraph Pages: 1 -->\r\n",
       "<svg width=\"277pt\" height=\"151pt\"\r\n",
       " viewBox=\"0.00 0.00 277.19 151.00\" xmlns=\"http://www.w3.org/2000/svg\" xmlns:xlink=\"http://www.w3.org/1999/xlink\">\r\n",
       "<g id=\"graph0\" class=\"graph\" transform=\"scale(1 1) rotate(0) translate(4 147)\">\r\n",
       "<title>ComputationGraph</title>\r\n",
       "<polygon fill=\"white\" stroke=\"transparent\" points=\"-4,4 -4,-147 273.19,-147 273.19,4 -4,4\"/>\r\n",
       "<!-- v_&#45;1 -->\r\n",
       "<g id=\"node1\" class=\"node\">\r\n",
       "<title>v_&#45;1</title>\r\n",
       "<ellipse fill=\"none\" stroke=\"black\" cx=\"22.1\" cy=\"-41.5\" rx=\"22.2\" ry=\"22.2\"/>\r\n",
       "<text text-anchor=\"start\" x=\"13.1\" y=\"-38.8\" font-family=\"Times New Roman,serif\" font-size=\"14.00\">v</text>\r\n",
       "<text text-anchor=\"start\" x=\"20.1\" y=\"-38.8\" font-family=\"Times New Roman,serif\" baseline-shift=\"sub\" font-size=\"14.00\">&#45;1</text>\r\n",
       "</g>\r\n",
       "<!-- v_0 -->\r\n",
       "<g id=\"node2\" class=\"node\">\r\n",
       "<title>v_0</title>\r\n",
       "<ellipse fill=\"none\" stroke=\"black\" cx=\"22.1\" cy=\"-112.5\" rx=\"19.5\" ry=\"19.5\"/>\r\n",
       "<text text-anchor=\"start\" x=\"15.1\" y=\"-109.8\" font-family=\"Times New Roman,serif\" font-size=\"14.00\">v</text>\r\n",
       "<text text-anchor=\"start\" x=\"22.1\" y=\"-109.8\" font-family=\"Times New Roman,serif\" baseline-shift=\"sub\" font-size=\"14.00\">0</text>\r\n",
       "</g>\r\n",
       "<!-- v_1 -->\r\n",
       "<g id=\"node3\" class=\"node\">\r\n",
       "<title>v_1</title>\r\n",
       "<ellipse fill=\"none\" stroke=\"black\" cx=\"99.69\" cy=\"-19.5\" rx=\"19.5\" ry=\"19.5\"/>\r\n",
       "<text text-anchor=\"start\" x=\"92.69\" y=\"-16.8\" font-family=\"Times New Roman,serif\" font-size=\"14.00\">v</text>\r\n",
       "<text text-anchor=\"start\" x=\"99.69\" y=\"-16.8\" font-family=\"Times New Roman,serif\" baseline-shift=\"sub\" font-size=\"14.00\">1</text>\r\n",
       "</g>\r\n",
       "<!-- v_1&#45;&gt;v_&#45;1 -->\r\n",
       "<g id=\"edge1\" class=\"edge\">\r\n",
       "<title>v_1&#45;&gt;v_&#45;1</title>\r\n",
       "<path fill=\"none\" stroke=\"black\" d=\"M80.78,-24.71C72.57,-27.1 62.61,-30 53.3,-32.71\"/>\r\n",
       "<polygon fill=\"black\" stroke=\"black\" points=\"52.18,-29.39 43.56,-35.54 54.14,-36.11 52.18,-29.39\"/>\r\n",
       "</g>\r\n",
       "<!-- v_2 -->\r\n",
       "<g id=\"node4\" class=\"node\">\r\n",
       "<title>v_2</title>\r\n",
       "<ellipse fill=\"none\" stroke=\"black\" cx=\"99.69\" cy=\"-76.5\" rx=\"19.5\" ry=\"19.5\"/>\r\n",
       "<text text-anchor=\"start\" x=\"92.69\" y=\"-73.8\" font-family=\"Times New Roman,serif\" font-size=\"14.00\">v</text>\r\n",
       "<text text-anchor=\"start\" x=\"99.69\" y=\"-73.8\" font-family=\"Times New Roman,serif\" baseline-shift=\"sub\" font-size=\"14.00\">2</text>\r\n",
       "</g>\r\n",
       "<!-- v_2&#45;&gt;v_&#45;1 -->\r\n",
       "<g id=\"edge2\" class=\"edge\">\r\n",
       "<title>v_2&#45;&gt;v_&#45;1</title>\r\n",
       "<path fill=\"none\" stroke=\"black\" d=\"M81.54,-68.56C72.76,-64.49 61.83,-59.43 51.81,-54.79\"/>\r\n",
       "<polygon fill=\"black\" stroke=\"black\" points=\"53.13,-51.54 42.58,-50.52 50.19,-57.9 53.13,-51.54\"/>\r\n",
       "</g>\r\n",
       "<!-- v_2&#45;&gt;v_0 -->\r\n",
       "<g id=\"edge3\" class=\"edge\">\r\n",
       "<title>v_2&#45;&gt;v_0</title>\r\n",
       "<path fill=\"none\" stroke=\"black\" d=\"M81.54,-84.67C72,-89.21 59.93,-94.96 49.24,-100.05\"/>\r\n",
       "<polygon fill=\"black\" stroke=\"black\" points=\"47.45,-97.03 39.92,-104.49 50.46,-103.35 47.45,-97.03\"/>\r\n",
       "</g>\r\n",
       "<!-- v_3 -->\r\n",
       "<g id=\"node5\" class=\"node\">\r\n",
       "<title>v_3</title>\r\n",
       "<ellipse fill=\"none\" stroke=\"black\" cx=\"174.69\" cy=\"-123.5\" rx=\"19.5\" ry=\"19.5\"/>\r\n",
       "<text text-anchor=\"start\" x=\"167.69\" y=\"-120.8\" font-family=\"Times New Roman,serif\" font-size=\"14.00\">v</text>\r\n",
       "<text text-anchor=\"start\" x=\"174.69\" y=\"-120.8\" font-family=\"Times New Roman,serif\" baseline-shift=\"sub\" font-size=\"14.00\">3</text>\r\n",
       "</g>\r\n",
       "<!-- v_3&#45;&gt;v_0 -->\r\n",
       "<g id=\"edge4\" class=\"edge\">\r\n",
       "<title>v_3&#45;&gt;v_0</title>\r\n",
       "<path fill=\"none\" stroke=\"black\" d=\"M155.23,-122.15C129.37,-120.26 82.14,-116.81 51.71,-114.59\"/>\r\n",
       "<polygon fill=\"black\" stroke=\"black\" points=\"51.94,-111.1 41.71,-113.86 51.43,-118.08 51.94,-111.1\"/>\r\n",
       "</g>\r\n",
       "<!-- v_4 -->\r\n",
       "<g id=\"node6\" class=\"node\">\r\n",
       "<title>v_4</title>\r\n",
       "<ellipse fill=\"none\" stroke=\"black\" cx=\"174.69\" cy=\"-66.5\" rx=\"19.5\" ry=\"19.5\"/>\r\n",
       "<text text-anchor=\"start\" x=\"167.69\" y=\"-63.8\" font-family=\"Times New Roman,serif\" font-size=\"14.00\">v</text>\r\n",
       "<text text-anchor=\"start\" x=\"174.69\" y=\"-63.8\" font-family=\"Times New Roman,serif\" baseline-shift=\"sub\" font-size=\"14.00\">4</text>\r\n",
       "</g>\r\n",
       "<!-- v_4&#45;&gt;v_1 -->\r\n",
       "<g id=\"edge5\" class=\"edge\">\r\n",
       "<title>v_4&#45;&gt;v_1</title>\r\n",
       "<path fill=\"none\" stroke=\"black\" d=\"M157.85,-56.3C148.29,-50.14 135.9,-42.16 125.1,-35.21\"/>\r\n",
       "<polygon fill=\"black\" stroke=\"black\" points=\"126.81,-32.15 116.5,-29.68 123.02,-38.03 126.81,-32.15\"/>\r\n",
       "</g>\r\n",
       "<!-- v_4&#45;&gt;v_2 -->\r\n",
       "<g id=\"edge6\" class=\"edge\">\r\n",
       "<title>v_4&#45;&gt;v_2</title>\r\n",
       "<path fill=\"none\" stroke=\"black\" d=\"M155.27,-69.02C147.32,-70.11 137.83,-71.41 129.02,-72.62\"/>\r\n",
       "<polygon fill=\"black\" stroke=\"black\" points=\"128.54,-69.15 119.11,-73.98 129.49,-76.09 128.54,-69.15\"/>\r\n",
       "</g>\r\n",
       "<!-- v_5 -->\r\n",
       "<g id=\"node7\" class=\"node\">\r\n",
       "<title>v_5</title>\r\n",
       "<ellipse fill=\"none\" stroke=\"black\" cx=\"249.69\" cy=\"-94.5\" rx=\"19.5\" ry=\"19.5\"/>\r\n",
       "<text text-anchor=\"start\" x=\"242.69\" y=\"-91.8\" font-family=\"Times New Roman,serif\" font-size=\"14.00\">v</text>\r\n",
       "<text text-anchor=\"start\" x=\"249.69\" y=\"-91.8\" font-family=\"Times New Roman,serif\" baseline-shift=\"sub\" font-size=\"14.00\">5</text>\r\n",
       "</g>\r\n",
       "<!-- v_5&#45;&gt;v_3 -->\r\n",
       "<g id=\"edge8\" class=\"edge\">\r\n",
       "<title>v_5&#45;&gt;v_3</title>\r\n",
       "<path fill=\"none\" stroke=\"black\" d=\"M231.39,-101.37C222.81,-104.78 212.26,-108.97 202.66,-112.78\"/>\r\n",
       "<polygon fill=\"black\" stroke=\"black\" points=\"201.12,-109.63 193.12,-116.57 203.7,-116.14 201.12,-109.63\"/>\r\n",
       "</g>\r\n",
       "<!-- v_5&#45;&gt;v_4 -->\r\n",
       "<g id=\"edge7\" class=\"edge\">\r\n",
       "<title>v_5&#45;&gt;v_4</title>\r\n",
       "<path fill=\"none\" stroke=\"black\" d=\"M231.02,-87.72C222.5,-84.45 212.1,-80.46 202.62,-76.83\"/>\r\n",
       "<polygon fill=\"black\" stroke=\"black\" points=\"203.79,-73.53 193.2,-73.21 201.28,-80.06 203.79,-73.53\"/>\r\n",
       "</g>\r\n",
       "</g>\r\n",
       "</svg>\r\n"
      ],
      "text/plain": [
       "<graphviz.dot.Digraph at 0x1693d97ebe0>"
      ]
     },
     "execution_count": 36,
     "metadata": {},
     "output_type": "execute_result"
    }
   ],
   "source": [
    "f = Digraph('ComputationGraph')\n",
    "f.attr(rankdir='RL')\n",
    "f.attr('node', shape='circle')\n",
    "f.node('v_-1', label='<v<sub>-1</sub>>')\n",
    "f.node('v_0', label='<v<sub>0</sub>>')\n",
    "f.node('v_1', label='<v<sub>1</sub>>')\n",
    "f.node('v_2', label='<v<sub>2</sub>>')\n",
    "f.node('v_3', label='<v<sub>3</sub>>')\n",
    "f.node('v_4', label='<v<sub>4</sub>>')\n",
    "f.node('v_5', label='<v<sub>5</sub>>')\n",
    "f.edge('v_1', 'v_-1')\n",
    "f.edge('v_2', 'v_-1')\n",
    "f.edge('v_2', 'v_0')\n",
    "f.edge('v_3', 'v_0')\n",
    "f.edge('v_4', 'v_1')\n",
    "f.edge('v_4', 'v_2')\n",
    "f.edge('v_5', 'v_4')\n",
    "f.edge('v_5', 'v_3')\n",
    "f"
   ]
  },
  {
   "cell_type": "markdown",
   "id": "0f5885bf",
   "metadata": {},
   "source": [
    "- First, compute along the **forward evaluation trace** $$\\begin{aligned}v_{-1}&=&x_1&=&2\\\\v_{0}&=&x_2&=&5\\\\v_1&=&\\text{ln}v_{-1}&=&\\text{ln}2\\\\v_2&=&v_{-1}\\times v_0&=&2\\times 5\\\\v_3&=&\\text{sin}v_0&=&\\text{sin}5\\\\v_4&=&v_1+v_2&=&0.693+10\\\\v_5&=&v_4-v_3&=&10.693+0.959\\\\y&=&v_5&=&11.652\\end{aligned}$$ Then compute along the **reverse adjoint trace** $$\\begin{aligned}\\bar{v}_5&=&\\frac{\\partial y}{\\partial v_5}&=&1&\\ &\\\\ \\bar{v}_4&=&\\bar{v}_5\\frac{\\partial v_5}{\\partial v_4}&=&\\bar{v}_5\\times 1&=&1\\\\ \\bar{v}_3&=&\\bar{v}_5\\frac{\\partial v_5}{\\partial v_3}&=&\\bar{v}_5\\times(-1)&=&-1\\\\ \\bar{v}_1&=&\\bar{v}_4\\frac{\\partial v_4}{\\partial v_1}&=&\\bar{v}_4\\times 1&=&1\\\\ \\bar{v}_2&=&\\bar{v}_4\\frac{\\partial v_4}{\\partial v_2}&=&\\bar{v}_4\\times 1&=&1\\\\ \\bar{v}_0&=&\\bar{v}_2\\frac{\\partial v_2}{\\partial v_0}+\\bar{v}_3\\frac{\\partial v_3}{\\partial v_0}&=&\\bar{v}_2\\times v_{-1}+\\bar{v}_3\\times\\text{cos}v_0&=&1.716\\\\ \\bar{v}_{-1}&=&\\bar{v}_1\\frac{\\partial v_1}{\\partial v_{-1}}+\\bar{v}_2\\frac{\\partial v_2}{\\partial v_{-1}}&=&\\bar{v}_1\\times\\frac{1}{v_{-1}}+\\bar{v}_2\\times v_0&=&5.5\\end{aligned}$$ Therefore, the result is $$\\begin{aligned}\\frac{\\partial f}{\\partial x_1}&=&\\bar{v}_{-1}&=&5.5\\\\\\frac{\\partial f}{\\partial x_2}&=&\\bar{v}_0&=&1.716\\end{aligned}$$\n",
    "- **Comments**: \n",
    "    - For a function $f:\\mathbb{R}^n\\Rightarrow\\mathbb{R}^m$ with input $\\mathbf{x}\\in\\mathbb{R}^n$ and output $\\mathbf{y}\\in\\mathbb{R}^m$, needs to calculate $m$ times along the **reverse adjoint trace**\n",
    "    - Get the partial derivatives of **one output** respect to **all variables** after computing along the reverse adjoint trace once\n",
    "        - Fits the idea of calculating **gradients**\n",
    "    - **High efficiency** when $n>>m$\n",
    "    - **Low efficiency** when $n<<m$\n",
    "    - Frequently used in ML/DL tasks and is supported by PyTorch, Tensorflow, ..."
   ]
  },
  {
   "cell_type": "markdown",
   "id": "22c23d56",
   "metadata": {},
   "source": [
    "## Computation graph and AutoGrad in PyTorch\n",
    "- As mentioned above, PyTorch supports **reverse mode automatic differentiation**\n",
    "    - PyTorch automatically creates a computation graph if **requires_grad=True**\n",
    "    - For a given variable with **requires_grad=True**, identify the operations and record the required information for reverse adjoint trace computation\n",
    "    - Can be checked by viewing the **requires_grad** attributes of independent variables\n",
    "    - Use the **make\\_dots** method from **torchviz** module to visualize the computation graph\n",
    "        - Need support from **graphviz**\n",
    "- Some comments:\n",
    "    - PyTorch's computational graphs are **dynamic**, in the sense that a new graph is created in each forward pass. On the other hand, the computational graphs constructed by Tensorflow are **static**, in the sense that the same graph is used over and over in all iterations during training\n",
    "    - In general, static graphs are more efficient because it only needs to be optimized once. Optimization generally consists of distributing the computations over the graph nodes across multiple GPUs if more than one GPU is available, or just fusing some nodes of the graph if the result logic won't be impacted by such fusion\n",
    "    - However, static graphs do not lend themselves well to recurrent neural computations because the graph itself can change from iteration to iteration"
   ]
  },
  {
   "cell_type": "code",
   "execution_count": 37,
   "id": "bfdc81f4",
   "metadata": {},
   "outputs": [
    {
     "name": "stdout",
     "output_type": "stream",
     "text": [
      "tensor(5.) False\n",
      "tensor(80.) False\n"
     ]
    }
   ],
   "source": [
    "# The default setting is requires_grad = False\n",
    "x = torch.tensor(5.)\n",
    "y = 3 * x**2 + x\n",
    "print(x, x.requires_grad)\n",
    "print(y, y.requires_grad)"
   ]
  },
  {
   "cell_type": "code",
   "execution_count": 38,
   "id": "8a0078f5",
   "metadata": {},
   "outputs": [
    {
     "name": "stdout",
     "output_type": "stream",
     "text": [
      "tensor(5., requires_grad=True) True\n",
      "tensor(76.1643, grad_fn=<AddBackward0>) True\n"
     ]
    },
    {
     "data": {
      "image/svg+xml": [
       "<?xml version=\"1.0\" encoding=\"UTF-8\" standalone=\"no\"?>\r\n",
       "<!DOCTYPE svg PUBLIC \"-//W3C//DTD SVG 1.1//EN\"\r\n",
       " \"http://www.w3.org/Graphics/SVG/1.1/DTD/svg11.dtd\">\r\n",
       "<!-- Generated by graphviz version 2.47.2 (20210527.0053)\r\n",
       " -->\r\n",
       "<!-- Pages: 1 -->\r\n",
       "<svg width=\"221pt\" height=\"381pt\"\r\n",
       " viewBox=\"0.00 0.00 220.89 381.00\" xmlns=\"http://www.w3.org/2000/svg\" xmlns:xlink=\"http://www.w3.org/1999/xlink\">\r\n",
       "<g id=\"graph0\" class=\"graph\" transform=\"scale(1 1) rotate(0) translate(4 377)\">\r\n",
       "<polygon fill=\"white\" stroke=\"transparent\" points=\"-4,4 -4,-377 216.89,-377 216.89,4 -4,4\"/>\r\n",
       "<!-- 1551516515712 -->\r\n",
       "<g id=\"node1\" class=\"node\">\r\n",
       "<title>1551516515712</title>\r\n",
       "<polygon fill=\"#caff70\" stroke=\"black\" points=\"141.39,-31 87.39,-31 87.39,0 141.39,0 141.39,-31\"/>\r\n",
       "<text text-anchor=\"middle\" x=\"114.39\" y=\"-7\" font-family=\"monospace\" font-size=\"10.00\"> ()</text>\r\n",
       "</g>\r\n",
       "<!-- 1551516557616 -->\r\n",
       "<g id=\"node2\" class=\"node\">\r\n",
       "<title>1551516557616</title>\r\n",
       "<polygon fill=\"lightgrey\" stroke=\"black\" points=\"158.89,-86 69.89,-86 69.89,-67 158.89,-67 158.89,-86\"/>\r\n",
       "<text text-anchor=\"middle\" x=\"114.39\" y=\"-74\" font-family=\"monospace\" font-size=\"10.00\">AddBackward0</text>\r\n",
       "</g>\r\n",
       "<!-- 1551516557616&#45;&gt;1551516515712 -->\r\n",
       "<g id=\"edge10\" class=\"edge\">\r\n",
       "<title>1551516557616&#45;&gt;1551516515712</title>\r\n",
       "<path fill=\"none\" stroke=\"black\" d=\"M114.39,-66.79C114.39,-60.07 114.39,-50.4 114.39,-41.34\"/>\r\n",
       "<polygon fill=\"black\" stroke=\"black\" points=\"117.89,-41.19 114.39,-31.19 110.89,-41.19 117.89,-41.19\"/>\r\n",
       "</g>\r\n",
       "<!-- 1551516560976 -->\r\n",
       "<g id=\"node3\" class=\"node\">\r\n",
       "<title>1551516560976</title>\r\n",
       "<polygon fill=\"lightgrey\" stroke=\"black\" points=\"105.89,-141 16.89,-141 16.89,-122 105.89,-122 105.89,-141\"/>\r\n",
       "<text text-anchor=\"middle\" x=\"61.39\" y=\"-129\" font-family=\"monospace\" font-size=\"10.00\">AddBackward0</text>\r\n",
       "</g>\r\n",
       "<!-- 1551516560976&#45;&gt;1551516557616 -->\r\n",
       "<g id=\"edge1\" class=\"edge\">\r\n",
       "<title>1551516560976&#45;&gt;1551516557616</title>\r\n",
       "<path fill=\"none\" stroke=\"black\" d=\"M70.14,-121.75C77.86,-114.03 89.3,-102.6 98.61,-93.28\"/>\r\n",
       "<polygon fill=\"black\" stroke=\"black\" points=\"101.21,-95.64 105.8,-86.09 96.26,-90.69 101.21,-95.64\"/>\r\n",
       "</g>\r\n",
       "<!-- 1550684224480 -->\r\n",
       "<g id=\"node4\" class=\"node\">\r\n",
       "<title>1550684224480</title>\r\n",
       "<polygon fill=\"lightgrey\" stroke=\"black\" points=\"108.89,-196 19.89,-196 19.89,-177 108.89,-177 108.89,-196\"/>\r\n",
       "<text text-anchor=\"middle\" x=\"64.39\" y=\"-184\" font-family=\"monospace\" font-size=\"10.00\">MulBackward0</text>\r\n",
       "</g>\r\n",
       "<!-- 1550684224480&#45;&gt;1551516560976 -->\r\n",
       "<g id=\"edge2\" class=\"edge\">\r\n",
       "<title>1550684224480&#45;&gt;1551516560976</title>\r\n",
       "<path fill=\"none\" stroke=\"black\" d=\"M63.9,-176.75C63.5,-169.8 62.94,-159.85 62.45,-151.13\"/>\r\n",
       "<polygon fill=\"black\" stroke=\"black\" points=\"65.94,-150.88 61.88,-141.09 58.95,-151.27 65.94,-150.88\"/>\r\n",
       "</g>\r\n",
       "<!-- 1550684132976 -->\r\n",
       "<g id=\"node5\" class=\"node\">\r\n",
       "<title>1550684132976</title>\r\n",
       "<polygon fill=\"lightgrey\" stroke=\"black\" points=\"108.89,-251 19.89,-251 19.89,-232 108.89,-232 108.89,-251\"/>\r\n",
       "<text text-anchor=\"middle\" x=\"64.39\" y=\"-239\" font-family=\"monospace\" font-size=\"10.00\">PowBackward0</text>\r\n",
       "</g>\r\n",
       "<!-- 1550684132976&#45;&gt;1550684224480 -->\r\n",
       "<g id=\"edge3\" class=\"edge\">\r\n",
       "<title>1550684132976&#45;&gt;1550684224480</title>\r\n",
       "<path fill=\"none\" stroke=\"black\" d=\"M64.39,-231.75C64.39,-224.8 64.39,-214.85 64.39,-206.13\"/>\r\n",
       "<polygon fill=\"black\" stroke=\"black\" points=\"67.89,-206.09 64.39,-196.09 60.89,-206.09 67.89,-206.09\"/>\r\n",
       "</g>\r\n",
       "<!-- 1550684225248 -->\r\n",
       "<g id=\"node6\" class=\"node\">\r\n",
       "<title>1550684225248</title>\r\n",
       "<polygon fill=\"lightgrey\" stroke=\"black\" points=\"114.89,-306 13.89,-306 13.89,-287 114.89,-287 114.89,-306\"/>\r\n",
       "<text text-anchor=\"middle\" x=\"64.39\" y=\"-294\" font-family=\"monospace\" font-size=\"10.00\">AccumulateGrad</text>\r\n",
       "</g>\r\n",
       "<!-- 1550684225248&#45;&gt;1551516560976 -->\r\n",
       "<g id=\"edge6\" class=\"edge\">\r\n",
       "<title>1550684225248&#45;&gt;1551516560976</title>\r\n",
       "<path fill=\"none\" stroke=\"black\" d=\"M47.5,-286.95C34.69,-279.43 18.01,-267.15 10.39,-251 -3.64,-221.25 -3.22,-206.94 10.39,-177 16.02,-164.63 26.96,-154.36 37.28,-146.81\"/>\r\n",
       "<polygon fill=\"black\" stroke=\"black\" points=\"39.35,-149.63 45.66,-141.12 35.42,-143.84 39.35,-149.63\"/>\r\n",
       "</g>\r\n",
       "<!-- 1550684225248&#45;&gt;1550684132976 -->\r\n",
       "<g id=\"edge4\" class=\"edge\">\r\n",
       "<title>1550684225248&#45;&gt;1550684132976</title>\r\n",
       "<path fill=\"none\" stroke=\"black\" d=\"M64.39,-286.75C64.39,-279.8 64.39,-269.85 64.39,-261.13\"/>\r\n",
       "<polygon fill=\"black\" stroke=\"black\" points=\"67.89,-261.09 64.39,-251.09 60.89,-261.09 67.89,-261.09\"/>\r\n",
       "</g>\r\n",
       "<!-- 1550684132256 -->\r\n",
       "<g id=\"node9\" class=\"node\">\r\n",
       "<title>1550684132256</title>\r\n",
       "<polygon fill=\"lightgrey\" stroke=\"black\" points=\"209.89,-251 126.89,-251 126.89,-232 209.89,-232 209.89,-251\"/>\r\n",
       "<text text-anchor=\"middle\" x=\"168.39\" y=\"-239\" font-family=\"monospace\" font-size=\"10.00\">SinBackward</text>\r\n",
       "</g>\r\n",
       "<!-- 1550684225248&#45;&gt;1550684132256 -->\r\n",
       "<g id=\"edge9\" class=\"edge\">\r\n",
       "<title>1550684225248&#45;&gt;1550684132256</title>\r\n",
       "<path fill=\"none\" stroke=\"black\" d=\"M81.1,-286.98C97.61,-278.57 123.09,-265.59 142.27,-255.81\"/>\r\n",
       "<polygon fill=\"black\" stroke=\"black\" points=\"144.06,-258.83 151.38,-251.17 140.88,-252.59 144.06,-258.83\"/>\r\n",
       "</g>\r\n",
       "<!-- 1550684189312 -->\r\n",
       "<g id=\"node7\" class=\"node\">\r\n",
       "<title>1550684189312</title>\r\n",
       "<polygon fill=\"lightblue\" stroke=\"black\" points=\"91.39,-373 37.39,-373 37.39,-342 91.39,-342 91.39,-373\"/>\r\n",
       "<text text-anchor=\"middle\" x=\"64.39\" y=\"-349\" font-family=\"monospace\" font-size=\"10.00\"> ()</text>\r\n",
       "</g>\r\n",
       "<!-- 1550684189312&#45;&gt;1550684225248 -->\r\n",
       "<g id=\"edge5\" class=\"edge\">\r\n",
       "<title>1550684189312&#45;&gt;1550684225248</title>\r\n",
       "<path fill=\"none\" stroke=\"black\" d=\"M64.39,-341.92C64.39,-334.22 64.39,-324.69 64.39,-316.43\"/>\r\n",
       "<polygon fill=\"black\" stroke=\"black\" points=\"67.89,-316.25 64.39,-306.25 60.89,-316.25 67.89,-316.25\"/>\r\n",
       "</g>\r\n",
       "<!-- 1551516560784 -->\r\n",
       "<g id=\"node8\" class=\"node\">\r\n",
       "<title>1551516560784</title>\r\n",
       "<polygon fill=\"lightgrey\" stroke=\"black\" points=\"212.89,-141 123.89,-141 123.89,-122 212.89,-122 212.89,-141\"/>\r\n",
       "<text text-anchor=\"middle\" x=\"168.39\" y=\"-129\" font-family=\"monospace\" font-size=\"10.00\">MulBackward0</text>\r\n",
       "</g>\r\n",
       "<!-- 1551516560784&#45;&gt;1551516557616 -->\r\n",
       "<g id=\"edge7\" class=\"edge\">\r\n",
       "<title>1551516560784&#45;&gt;1551516557616</title>\r\n",
       "<path fill=\"none\" stroke=\"black\" d=\"M159.48,-121.75C151.61,-114.03 139.96,-102.6 130.47,-93.28\"/>\r\n",
       "<polygon fill=\"black\" stroke=\"black\" points=\"132.73,-90.6 123.14,-86.09 127.83,-95.59 132.73,-90.6\"/>\r\n",
       "</g>\r\n",
       "<!-- 1550684132256&#45;&gt;1551516560784 -->\r\n",
       "<g id=\"edge8\" class=\"edge\">\r\n",
       "<title>1550684132256&#45;&gt;1551516560784</title>\r\n",
       "<path fill=\"none\" stroke=\"black\" d=\"M168.39,-231.66C168.39,-214.17 168.39,-174.8 168.39,-151.27\"/>\r\n",
       "<polygon fill=\"black\" stroke=\"black\" points=\"171.89,-151.16 168.39,-141.16 164.89,-151.16 171.89,-151.16\"/>\r\n",
       "</g>\r\n",
       "</g>\r\n",
       "</svg>\r\n"
      ],
      "text/plain": [
       "<graphviz.dot.Digraph at 0x1693d97e280>"
      ]
     },
     "execution_count": 38,
     "metadata": {},
     "output_type": "execute_result"
    }
   ],
   "source": [
    "# Use the torchviz module for visualization\n",
    "from torchviz import make_dot\n",
    "\n",
    "x = torch.tensor(5., requires_grad=True)\n",
    "y = 3 * x**2 + x + 4 * torch.sin(x)\n",
    "# Independent variable would show the requires_grad attribute\n",
    "print(x, x.requires_grad)\n",
    "# Dependent variable would show the grad_fn attribute\n",
    "print(y, y.requires_grad)\n",
    "make_dot(y)"
   ]
  },
  {
   "cell_type": "markdown",
   "id": "c8edfb31",
   "metadata": {},
   "source": [
    "- Notice the **grad_fn** attribute. Tensor use this attribute to do the backwards computation.\n",
    "- When the dimension of input tensor is greater than one, the dimension of each step would also show on the graph\n",
    "    - Very useful when building neural networks"
   ]
  },
  {
   "cell_type": "code",
   "execution_count": 39,
   "id": "ffb0127c",
   "metadata": {},
   "outputs": [
    {
     "data": {
      "image/svg+xml": [
       "<?xml version=\"1.0\" encoding=\"UTF-8\" standalone=\"no\"?>\r\n",
       "<!DOCTYPE svg PUBLIC \"-//W3C//DTD SVG 1.1//EN\"\r\n",
       " \"http://www.w3.org/Graphics/SVG/1.1/DTD/svg11.dtd\">\r\n",
       "<!-- Generated by graphviz version 2.47.2 (20210527.0053)\r\n",
       " -->\r\n",
       "<!-- Pages: 1 -->\r\n",
       "<svg width=\"198pt\" height=\"271pt\"\r\n",
       " viewBox=\"0.00 0.00 198.00 271.00\" xmlns=\"http://www.w3.org/2000/svg\" xmlns:xlink=\"http://www.w3.org/1999/xlink\">\r\n",
       "<g id=\"graph0\" class=\"graph\" transform=\"scale(1 1) rotate(0) translate(4 267)\">\r\n",
       "<polygon fill=\"white\" stroke=\"transparent\" points=\"-4,4 -4,-267 194,-267 194,4 -4,4\"/>\r\n",
       "<!-- 1550684189120 -->\r\n",
       "<g id=\"node1\" class=\"node\">\r\n",
       "<title>1550684189120</title>\r\n",
       "<polygon fill=\"#caff70\" stroke=\"black\" points=\"135,-31 58,-31 58,0 135,0 135,-31\"/>\r\n",
       "<text text-anchor=\"middle\" x=\"96.5\" y=\"-7\" font-family=\"monospace\" font-size=\"10.00\"> (3, 4, 4)</text>\r\n",
       "</g>\r\n",
       "<!-- 1550684132688 -->\r\n",
       "<g id=\"node2\" class=\"node\">\r\n",
       "<title>1550684132688</title>\r\n",
       "<polygon fill=\"lightgrey\" stroke=\"black\" points=\"141,-86 52,-86 52,-67 141,-67 141,-86\"/>\r\n",
       "<text text-anchor=\"middle\" x=\"96.5\" y=\"-74\" font-family=\"monospace\" font-size=\"10.00\">AddBackward0</text>\r\n",
       "</g>\r\n",
       "<!-- 1550684132688&#45;&gt;1550684189120 -->\r\n",
       "<g id=\"edge6\" class=\"edge\">\r\n",
       "<title>1550684132688&#45;&gt;1550684189120</title>\r\n",
       "<path fill=\"none\" stroke=\"black\" d=\"M96.5,-66.79C96.5,-60.07 96.5,-50.4 96.5,-41.34\"/>\r\n",
       "<polygon fill=\"black\" stroke=\"black\" points=\"100,-41.19 96.5,-31.19 93,-41.19 100,-41.19\"/>\r\n",
       "</g>\r\n",
       "<!-- 1550684134512 -->\r\n",
       "<g id=\"node3\" class=\"node\">\r\n",
       "<title>1550684134512</title>\r\n",
       "<polygon fill=\"lightgrey\" stroke=\"black\" points=\"89,-141 0,-141 0,-122 89,-122 89,-141\"/>\r\n",
       "<text text-anchor=\"middle\" x=\"44.5\" y=\"-129\" font-family=\"monospace\" font-size=\"10.00\">PowBackward0</text>\r\n",
       "</g>\r\n",
       "<!-- 1550684134512&#45;&gt;1550684132688 -->\r\n",
       "<g id=\"edge1\" class=\"edge\">\r\n",
       "<title>1550684134512&#45;&gt;1550684132688</title>\r\n",
       "<path fill=\"none\" stroke=\"black\" d=\"M53.09,-121.75C60.66,-114.03 71.88,-102.6 81.01,-93.28\"/>\r\n",
       "<polygon fill=\"black\" stroke=\"black\" points=\"83.57,-95.68 88.07,-86.09 78.57,-90.78 83.57,-95.68\"/>\r\n",
       "</g>\r\n",
       "<!-- 1550684307664 -->\r\n",
       "<g id=\"node4\" class=\"node\">\r\n",
       "<title>1550684307664</title>\r\n",
       "<polygon fill=\"lightgrey\" stroke=\"black\" points=\"147,-196 46,-196 46,-177 147,-177 147,-196\"/>\r\n",
       "<text text-anchor=\"middle\" x=\"96.5\" y=\"-184\" font-family=\"monospace\" font-size=\"10.00\">AccumulateGrad</text>\r\n",
       "</g>\r\n",
       "<!-- 1550684307664&#45;&gt;1550684134512 -->\r\n",
       "<g id=\"edge2\" class=\"edge\">\r\n",
       "<title>1550684307664&#45;&gt;1550684134512</title>\r\n",
       "<path fill=\"none\" stroke=\"black\" d=\"M87.91,-176.75C80.34,-169.03 69.12,-157.6 59.99,-148.28\"/>\r\n",
       "<polygon fill=\"black\" stroke=\"black\" points=\"62.43,-145.78 52.93,-141.09 57.43,-150.68 62.43,-145.78\"/>\r\n",
       "</g>\r\n",
       "<!-- 1550684132880 -->\r\n",
       "<g id=\"node6\" class=\"node\">\r\n",
       "<title>1550684132880</title>\r\n",
       "<polygon fill=\"lightgrey\" stroke=\"black\" points=\"190,-141 107,-141 107,-122 190,-122 190,-141\"/>\r\n",
       "<text text-anchor=\"middle\" x=\"148.5\" y=\"-129\" font-family=\"monospace\" font-size=\"10.00\">SinBackward</text>\r\n",
       "</g>\r\n",
       "<!-- 1550684307664&#45;&gt;1550684132880 -->\r\n",
       "<g id=\"edge5\" class=\"edge\">\r\n",
       "<title>1550684307664&#45;&gt;1550684132880</title>\r\n",
       "<path fill=\"none\" stroke=\"black\" d=\"M105.09,-176.75C112.66,-169.03 123.88,-157.6 133.01,-148.28\"/>\r\n",
       "<polygon fill=\"black\" stroke=\"black\" points=\"135.57,-150.68 140.07,-141.09 130.57,-145.78 135.57,-150.68\"/>\r\n",
       "</g>\r\n",
       "<!-- 1550684129024 -->\r\n",
       "<g id=\"node5\" class=\"node\">\r\n",
       "<title>1550684129024</title>\r\n",
       "<polygon fill=\"lightblue\" stroke=\"black\" points=\"135,-263 58,-263 58,-232 135,-232 135,-263\"/>\r\n",
       "<text text-anchor=\"middle\" x=\"96.5\" y=\"-239\" font-family=\"monospace\" font-size=\"10.00\"> (3, 4, 4)</text>\r\n",
       "</g>\r\n",
       "<!-- 1550684129024&#45;&gt;1550684307664 -->\r\n",
       "<g id=\"edge3\" class=\"edge\">\r\n",
       "<title>1550684129024&#45;&gt;1550684307664</title>\r\n",
       "<path fill=\"none\" stroke=\"black\" d=\"M96.5,-231.92C96.5,-224.22 96.5,-214.69 96.5,-206.43\"/>\r\n",
       "<polygon fill=\"black\" stroke=\"black\" points=\"100,-206.25 96.5,-196.25 93,-206.25 100,-206.25\"/>\r\n",
       "</g>\r\n",
       "<!-- 1550684132880&#45;&gt;1550684132688 -->\r\n",
       "<g id=\"edge4\" class=\"edge\">\r\n",
       "<title>1550684132880&#45;&gt;1550684132688</title>\r\n",
       "<path fill=\"none\" stroke=\"black\" d=\"M139.91,-121.75C132.34,-114.03 121.12,-102.6 111.99,-93.28\"/>\r\n",
       "<polygon fill=\"black\" stroke=\"black\" points=\"114.43,-90.78 104.93,-86.09 109.43,-95.68 114.43,-90.78\"/>\r\n",
       "</g>\r\n",
       "</g>\r\n",
       "</svg>\r\n"
      ],
      "text/plain": [
       "<graphviz.dot.Digraph at 0x1690bfa15e0>"
      ]
     },
     "execution_count": 39,
     "metadata": {},
     "output_type": "execute_result"
    }
   ],
   "source": [
    "x = torch.randn((3, 4, 4), requires_grad=True)\n",
    "y = x**2 + torch.sin(x)\n",
    "make_dot(y)"
   ]
  },
  {
   "cell_type": "markdown",
   "id": "937d7fcd",
   "metadata": {},
   "source": [
    "- One can access the gradient by calling **backward()** method\n",
    "- After invoke **backward()** method on the dependent variable we are interested in, the partial derivative would automatically be returned to the **grad** attribute of variables contributed to that dependent variable\n",
    "- For **independent** variables, we can directly call **backward()** method and see the gradients\n",
    "- In the following case: $$z=x_1^2+x_2^2$$ The partial derivatives at $x_1=5,x_2=2$ are $$\\frac{\\partial z}{\\partial x_1}=2x_1=10,\\frac{\\partial z}{\\partial x_2}=2x_2=4$$"
   ]
  },
  {
   "cell_type": "code",
   "execution_count": 40,
   "id": "8633b57c",
   "metadata": {},
   "outputs": [
    {
     "name": "stdout",
     "output_type": "stream",
     "text": [
      "tensor(5., requires_grad=True) tensor(10.)\n",
      "tensor(2., requires_grad=True) tensor(4.)\n",
      "tensor(29., grad_fn=<AddBackward0>)\n"
     ]
    }
   ],
   "source": [
    "x_1 = torch.tensor(5., requires_grad=True)\n",
    "x_2 = torch.tensor(2., requires_grad=True)\n",
    "z = x_1**2 + x_2**2\n",
    "z.backward()\n",
    "print(x_1, x_1.grad)\n",
    "print(x_2, x_2.grad)\n",
    "print(z)"
   ]
  },
  {
   "cell_type": "markdown",
   "id": "cc56252c",
   "metadata": {},
   "source": [
    "- For **intermediate dependent** variables (*non-leaf tensor* in pytorch documentation) used in computation, the gradient value is usually not considered and would be cleared after the computation along reverse adjoint trace.\n",
    "- If the value is indeed needed, the **retain_grad()** method should be invoked"
   ]
  },
  {
   "cell_type": "code",
   "execution_count": 41,
   "id": "e1637fd9",
   "metadata": {},
   "outputs": [
    {
     "name": "stdout",
     "output_type": "stream",
     "text": [
      "tensor(5., requires_grad=True) tensor(10.)\n",
      "tensor(2., requires_grad=True) tensor(2.)\n",
      "tensor(2., grad_fn=<MulBackward0>) tensor(1.)\n",
      "tensor(27., grad_fn=<AddBackward0>)\n"
     ]
    }
   ],
   "source": [
    "x_1 = torch.tensor(5., requires_grad=True)\n",
    "x_2 = torch.tensor(2., requires_grad=True)\n",
    "y = 0.5 * x_2**2\n",
    "y.retain_grad()\n",
    "z = x_1**2 + y\n",
    "z.backward()\n",
    "print(x_1, x_1.grad)\n",
    "print(x_2, x_2.grad)\n",
    "print(y, y.grad)\n",
    "print(z)"
   ]
  },
  {
   "cell_type": "markdown",
   "id": "6552aa65",
   "metadata": {},
   "source": [
    "- It needs to be noticed that the gradients accumulate when calling **backward()**"
   ]
  },
  {
   "cell_type": "code",
   "execution_count": 42,
   "id": "93c9ff00",
   "metadata": {},
   "outputs": [
    {
     "name": "stdout",
     "output_type": "stream",
     "text": [
      "tensor(5., requires_grad=True) tensor(30.)\n",
      "tensor(75., grad_fn=<MulBackward0>)\n",
      "tensor(5., requires_grad=True) tensor(60.)\n",
      "tensor(75., grad_fn=<MulBackward0>)\n"
     ]
    }
   ],
   "source": [
    "x = torch.tensor(5., requires_grad=True)\n",
    "for ii in range(2):\n",
    "    y = 3 * x**2\n",
    "    y.backward()\n",
    "    print(x, x.grad)\n",
    "    print(y)"
   ]
  },
  {
   "cell_type": "markdown",
   "id": "8a390a0e",
   "metadata": {},
   "source": [
    "- Therefore, when calculating the gradients repeated in loops, we usually need to **zero** the gradients before calling **backward()** method, by calling **zero_()** method"
   ]
  },
  {
   "cell_type": "code",
   "execution_count": 43,
   "id": "ac36ea46",
   "metadata": {},
   "outputs": [
    {
     "name": "stdout",
     "output_type": "stream",
     "text": [
      "'NoneType' object has no attribute 'zero_'\n",
      "tensor(5., requires_grad=True) tensor(30.)\n",
      "tensor(75., grad_fn=<MulBackward0>)\n",
      "tensor(5., requires_grad=True) tensor(30.)\n",
      "tensor(75., grad_fn=<MulBackward0>)\n"
     ]
    }
   ],
   "source": [
    "x = torch.tensor(5., requires_grad=True)\n",
    "for ii in range(2):\n",
    "    try:\n",
    "        x.grad.zero_()\n",
    "    except Exception as e:\n",
    "        print(e)\n",
    "    y = 3 * x**2\n",
    "    y.backward()\n",
    "    print(x, x.grad)\n",
    "    print(y)"
   ]
  },
  {
   "cell_type": "markdown",
   "id": "67c5d66e",
   "metadata": {},
   "source": [
    "- Sometimes, we would need to call the **backward()** method multiple times, like using MSE loss and Cross-Entropy loss separately for localization and detection in CV. In this case, **retain_graph** should be set to **True** except in the last **backward()** method if any **intermediate dependent variables** are used."
   ]
  },
  {
   "cell_type": "code",
   "execution_count": 44,
   "id": "6c45b8d7",
   "metadata": {},
   "outputs": [
    {
     "name": "stdout",
     "output_type": "stream",
     "text": [
      "tensor(5., requires_grad=True) tensor(116.)\n"
     ]
    }
   ],
   "source": [
    "x = torch.tensor(5., requires_grad=True)\n",
    "y = x**2\n",
    "z_1 = x + y\n",
    "z_2 = x**2 + y\n",
    "z_3 = x**3 + y\n",
    "z_1.backward(retain_graph=True)\n",
    "z_2.backward(retain_graph=True)\n",
    "z_3.backward()\n",
    "print(x, x.grad)"
   ]
  },
  {
   "cell_type": "markdown",
   "id": "d5b25d3f",
   "metadata": {},
   "source": [
    "- Generally speaking, PyTorch can compute gradients for any number of parameters and any complex functions"
   ]
  },
  {
   "cell_type": "code",
   "execution_count": 45,
   "id": "87af7590",
   "metadata": {},
   "outputs": [
    {
     "name": "stdout",
     "output_type": "stream",
     "text": [
      "tensor([0., 1., 2., 3., 4.], requires_grad=True)\n",
      "tensor(30., grad_fn=<SumBackward0>)\n",
      "tensor([0., 2., 4., 6., 8.])\n"
     ]
    }
   ],
   "source": [
    "x = torch.arange(5.).requires_grad_(True)\n",
    "y = torch.sum(x**2)\n",
    "y.backward()\n",
    "print(x)\n",
    "print(y)\n",
    "print(x.grad)"
   ]
  },
  {
   "cell_type": "code",
   "execution_count": 46,
   "id": "58801e0d",
   "metadata": {},
   "outputs": [
    {
     "name": "stdout",
     "output_type": "stream",
     "text": [
      "tensor([0., 1., 2., 3., 4.], requires_grad=True)\n",
      "tensor(11.4877, grad_fn=<MeanBackward0>)\n",
      "tensor([1.0000, 1.2000, 1.1600, 1.1200, 1.0941])\n"
     ]
    }
   ],
   "source": [
    "x = torch.arange(5.).requires_grad_(True)\n",
    "y = torch.mean(torch.log(x**2 + 1) + 5 * x)\n",
    "y.backward()\n",
    "print(x)\n",
    "print(y)\n",
    "print(x.grad)"
   ]
  },
  {
   "cell_type": "markdown",
   "id": "653a2ced",
   "metadata": {},
   "source": [
    "%%latex\n",
    "\\newpage"
   ]
  },
  {
   "cell_type": "markdown",
   "id": "2fc28bc3",
   "metadata": {},
   "source": [
    "# Simple Gradient Descent example\n",
    "- To show how automatic gradient in PyTorch and the simple gradient descent algorithm work, here are two examples where the input and output are both $1$-dimension variables\n",
    "- For convenience, define the gradient descent algorithm as a function and the visualization process as a function"
   ]
  },
  {
   "cell_type": "code",
   "execution_count": 47,
   "id": "ea1918c7",
   "metadata": {},
   "outputs": [],
   "source": [
    "import matplotlib.pyplot as plt\n",
    "import numpy as np\n",
    "\n",
    "\n",
    "# Function of simple gradient descent\n",
    "def gradient_descent(objective, step_size=0.05, max_iter=100, init=0):\n",
    "    # Initialize\n",
    "    x_hat = torch.tensor(init, dtype=torch.float32, requires_grad=True)\n",
    "    # Record the value iteration process\n",
    "    x_hat_arr = [x_hat.detach().numpy().copy()]\n",
    "    obj_arr = [objective(x_hat).detach().numpy()]\n",
    "    # Iterate\n",
    "    for ii in range(max_iter):\n",
    "        # Compute gradient\n",
    "        if x_hat.grad is not None:\n",
    "            x_hat.grad.zero_()\n",
    "        out = objective(x_hat)\n",
    "        out.backward()\n",
    "        # Update x_hat\n",
    "        # Stop tracking gradients\n",
    "        with torch.no_grad():\n",
    "            x_hat -= step_size * x_hat.grad\n",
    "        x_hat_arr.append(x_hat.detach().numpy().copy())\n",
    "        obj_arr.append(objective(x_hat).detach().numpy())\n",
    "    return np.array(x_hat_arr), np.array(obj_arr)\n",
    "\n",
    "\n",
    "# Function to visualize iteration process\n",
    "def visualize_result(x_arr, obj_arr, objective, x_true=None, vis_arr=None):\n",
    "    # The horizontal range of figure\n",
    "    if vis_arr is None:\n",
    "        vis_arr = np.linspace(np.min(x_arr), np.max(x_arr))\n",
    "    fig, ax = plt.subplots(figsize=(8, 3), dpi=100)\n",
    "    ax.plot(vis_arr, [objective(torch.tensor(x)).numpy() for x in vis_arr],\n",
    "            label='Objective')\n",
    "    ax.plot(x_arr, obj_arr, 'o-', label='Gradient Steps')\n",
    "    # If true minimum location is provided, plot it out\n",
    "    if x_true is not None:\n",
    "        ax.plot(np.ones(2) * x_true, plt.ylim(), label='True x')\n",
    "    ax.plot(np.ones(2) * x_arr[-1], plt.ylim(), label='Final x')\n",
    "    plt.legend(loc='lower right')\n",
    "    plt.show()"
   ]
  },
  {
   "cell_type": "markdown",
   "id": "0569cb37",
   "metadata": {},
   "source": [
    "## Convex function - Converge to global minimum\n",
    "- Here is an example where the objective function is very simple and gradient descent can easily reach the global minimum\n",
    "- First plot out the objective function"
   ]
  },
  {
   "cell_type": "code",
   "execution_count": 48,
   "id": "9a5b5a8f",
   "metadata": {},
   "outputs": [
    {
     "data": {
      "image/png": "[encoded data removed]",
      "text/plain": [
       "<Figure size 800x300 with 1 Axes>"
      ]
     },
     "metadata": {
      "needs_background": "light"
     },
     "output_type": "display_data"
    }
   ],
   "source": [
    "# Objective function\n",
    "def Objective(x):\n",
    "    return torch.abs(x) + (x - 5)**2\n",
    "\n",
    "\n",
    "x = torch.linspace(0, 10, 100)\n",
    "y = Objective(x)\n",
    "x_true = float(x[np.argmin(y)])\n",
    "fig, ax = plt.subplots(figsize=(8, 3), dpi=100)\n",
    "# Need to convert the tensor to numpy arrays for plots\n",
    "ax.plot(x.numpy(), y.numpy())\n",
    "# Show the minimum location\n",
    "ax.plot(x_true * np.ones(2), plt.ylim())\n",
    "plt.show()"
   ]
  },
  {
   "cell_type": "markdown",
   "id": "4979e15b",
   "metadata": {},
   "source": [
    "- Apply simple gradient descent on this function"
   ]
  },
  {
   "cell_type": "code",
   "execution_count": 49,
   "id": "a18d0746",
   "metadata": {},
   "outputs": [
    {
     "data": {
      "image/png": "[encoded data removed]",
      "text/plain": [
       "<Figure size 800x300 with 1 Axes>"
      ]
     },
     "metadata": {
      "needs_background": "light"
     },
     "output_type": "display_data"
    }
   ],
   "source": [
    "# Call the functions to get the minimum\n",
    "x_hat_arr, obj_arr = gradient_descent(Objective,\n",
    "                                      step_size=0.05,\n",
    "                                      max_iter=150,\n",
    "                                      init=0)\n",
    "visualize_result(x_hat_arr,\n",
    "                 obj_arr,\n",
    "                 Objective,\n",
    "                 x_true=x_true,\n",
    "                 vis_arr=np.linspace(0, 10, num=100))"
   ]
  },
  {
   "cell_type": "markdown",
   "id": "0b54607e",
   "metadata": {},
   "source": [
    "- It seems that the final value approximately reaches the global minimum. Let's check the result by printing them out"
   ]
  },
  {
   "cell_type": "code",
   "execution_count": 50,
   "id": "3605b7a2",
   "metadata": {},
   "outputs": [
    {
     "name": "stdout",
     "output_type": "stream",
     "text": [
      "The true minimum location is:              4.545455\n",
      "The final location got by GD is:           4.499998\n",
      "Errors between true and final location is: 0.045456\n"
     ]
    }
   ],
   "source": [
    "print(\"The true minimum location is:              %f\" % (x_true))\n",
    "print(\"The final location got by GD is:           %f\" % (x_hat_arr[-1]))\n",
    "print(\"Errors between true and final location is: %f\" %\n",
    "      (x_true - x_hat_arr[-1]))"
   ]
  },
  {
   "cell_type": "markdown",
   "id": "7eb677a8",
   "metadata": {},
   "source": [
    "- In this case, the start point does **not** matter"
   ]
  },
  {
   "cell_type": "code",
   "execution_count": 51,
   "id": "b58d9c11",
   "metadata": {},
   "outputs": [
    {
     "data": {
      "image/png": "[encoded data removed]",
      "text/plain": [
       "<Figure size 800x300 with 1 Axes>"
      ]
     },
     "metadata": {
      "needs_background": "light"
     },
     "output_type": "display_data"
    }
   ],
   "source": [
    "# Call the functions to get the minimum\n",
    "x_hat_arr, obj_arr = gradient_descent(Objective,\n",
    "                                      step_size=0.05,\n",
    "                                      max_iter=150,\n",
    "                                      init=10)\n",
    "visualize_result(x_hat_arr,\n",
    "                 obj_arr,\n",
    "                 Objective,\n",
    "                 x_true=x_true,\n",
    "                 vis_arr=np.linspace(0, 10, num=100))"
   ]
  },
  {
   "cell_type": "markdown",
   "id": "4e9a2bfd",
   "metadata": {},
   "source": [
    "## Non convex function - Converge to local minimum\n",
    "- Here is an example where the objective function is a bit complex and gradient descent falls into local minimum\n",
    "- First plot out the objective function"
   ]
  },
  {
   "cell_type": "code",
   "execution_count": 52,
   "id": "5679d685",
   "metadata": {},
   "outputs": [
    {
     "data": {
      "image/png": "[encoded data removed]",
      "text/plain": [
       "<Figure size 800x300 with 1 Axes>"
      ]
     },
     "metadata": {
      "needs_background": "light"
     },
     "output_type": "display_data"
    }
   ],
   "source": [
    "def Objective(x):\n",
    "    return x * torch.cos(4 * x) + 2 * torch.abs(x)\n",
    "\n",
    "\n",
    "x = torch.linspace(-5, 5, 100)\n",
    "y = Objective(x)\n",
    "x_true = float(x[np.argmin(y)])\n",
    "fig, ax = plt.subplots(figsize=(8, 3), dpi=100)\n",
    "ax.plot(x.numpy(), y.numpy())\n",
    "ax.plot(x_true * np.ones(2), plt.ylim())\n",
    "plt.show()"
   ]
  },
  {
   "cell_type": "markdown",
   "id": "5ea71037",
   "metadata": {},
   "source": [
    "- As what was done before, apply simple gradient descent to it"
   ]
  },
  {
   "cell_type": "code",
   "execution_count": 53,
   "id": "d835ec7f",
   "metadata": {},
   "outputs": [
    {
     "data": {
      "image/png": "[encoded data removed]",
      "text/plain": [
       "<Figure size 800x300 with 1 Axes>"
      ]
     },
     "metadata": {
      "needs_background": "light"
     },
     "output_type": "display_data"
    }
   ],
   "source": [
    "x_hat_arr, obj_arr = gradient_descent(Objective,\n",
    "                                      step_size=0.05,\n",
    "                                      max_iter=150,\n",
    "                                      init=-3.5)\n",
    "visualize_result(x_hat_arr,\n",
    "                 obj_arr,\n",
    "                 Objective,\n",
    "                 x_true=x_true,\n",
    "                 vis_arr=np.linspace(-5, 5, num=100))"
   ]
  },
  {
   "cell_type": "markdown",
   "id": "f5128338",
   "metadata": {},
   "source": [
    "- In this case, it seems that the **step size** is so huge that the oscillation occurs and gradient descent even cannot reach a local minimum. Try with a smaller step size"
   ]
  },
  {
   "cell_type": "code",
   "execution_count": 54,
   "id": "8e63f42a",
   "metadata": {},
   "outputs": [
    {
     "data": {
      "image/png": "[encoded data removed]",
      "text/plain": [
       "<Figure size 800x300 with 1 Axes>"
      ]
     },
     "metadata": {
      "needs_background": "light"
     },
     "output_type": "display_data"
    }
   ],
   "source": [
    "x_hat_arr, obj_arr = gradient_descent(Objective,\n",
    "                                      step_size=0.001,\n",
    "                                      max_iter=150,\n",
    "                                      init=-3.5)\n",
    "visualize_result(x_hat_arr,\n",
    "                 obj_arr,\n",
    "                 Objective,\n",
    "                 x_true=x_true,\n",
    "                 vis_arr=np.linspace(-5, 5, num=100))"
   ]
  },
  {
   "cell_type": "markdown",
   "id": "64990b9b",
   "metadata": {},
   "source": [
    "- With a smaller step size, it successfully converge to a local minimum. However, we would always look forward to a global minimum. \n",
    "- In this case, the **start point will affect final convergence**. Try with different start points"
   ]
  },
  {
   "cell_type": "code",
   "execution_count": 55,
   "id": "ee2a3569",
   "metadata": {},
   "outputs": [
    {
     "data": {
      "image/png": "[encoded data removed]",
      "text/plain": [
       "<Figure size 800x300 with 1 Axes>"
      ]
     },
     "metadata": {
      "needs_background": "light"
     },
     "output_type": "display_data"
    }
   ],
   "source": [
    "x_hat_arr, obj_arr = gradient_descent(Objective,\n",
    "                                      step_size=0.001,\n",
    "                                      max_iter=150,\n",
    "                                      init=-2.5)\n",
    "visualize_result(x_hat_arr,\n",
    "                 obj_arr,\n",
    "                 Objective,\n",
    "                 x_true=x_true,\n",
    "                 vis_arr=np.linspace(-5, 5, num=100))"
   ]
  },
  {
   "cell_type": "code",
   "execution_count": 56,
   "id": "28a3a695",
   "metadata": {},
   "outputs": [
    {
     "data": {
      "image/png": "[encoded data removed]",
      "text/plain": [
       "<Figure size 800x300 with 1 Axes>"
      ]
     },
     "metadata": {
      "needs_background": "light"
     },
     "output_type": "display_data"
    }
   ],
   "source": [
    "x_hat_arr, obj_arr = gradient_descent(Objective,\n",
    "                                      step_size=0.001,\n",
    "                                      max_iter=150,\n",
    "                                      init=-2)\n",
    "visualize_result(x_hat_arr,\n",
    "                 obj_arr,\n",
    "                 Objective,\n",
    "                 x_true=x_true,\n",
    "                 vis_arr=np.linspace(-5, 5, num=100))"
   ]
  },
  {
   "cell_type": "code",
   "execution_count": 57,
   "id": "821cbbe3",
   "metadata": {},
   "outputs": [
    {
     "data": {
      "image/png": "[encoded data removed]",
      "text/plain": [
       "<Figure size 800x300 with 1 Axes>"
      ]
     },
     "metadata": {
      "needs_background": "light"
     },
     "output_type": "display_data"
    }
   ],
   "source": [
    "x_hat_arr, obj_arr = gradient_descent(Objective,\n",
    "                                      step_size=0.001,\n",
    "                                      max_iter=150,\n",
    "                                      init=-1)\n",
    "visualize_result(x_hat_arr,\n",
    "                 obj_arr,\n",
    "                 Objective,\n",
    "                 x_true=x_true,\n",
    "                 vis_arr=np.linspace(-5, 5, num=100))"
   ]
  },
  {
   "cell_type": "code",
   "execution_count": 58,
   "id": "5ecbd5e0",
   "metadata": {},
   "outputs": [
    {
     "data": {
      "image/png": "[encoded data removed]",
      "text/plain": [
       "<Figure size 800x300 with 1 Axes>"
      ]
     },
     "metadata": {
      "needs_background": "light"
     },
     "output_type": "display_data"
    }
   ],
   "source": [
    "x_hat_arr, obj_arr = gradient_descent(Objective,\n",
    "                                      step_size=0.001,\n",
    "                                      max_iter=150,\n",
    "                                      init=-0.5)\n",
    "visualize_result(x_hat_arr,\n",
    "                 obj_arr,\n",
    "                 Objective,\n",
    "                 x_true=x_true,\n",
    "                 vis_arr=np.linspace(-5, 5, num=100))"
   ]
  },
  {
   "cell_type": "markdown",
   "id": "508fb835",
   "metadata": {},
   "source": [
    "- After several trials, we finally reaches the approximated location of global minimum. However, in complex optimization problems, we will not be able to select a best start point so easily by visualization, which **makes finding the global minimum very difficult**."
   ]
  }
 ],
 "metadata": {
  "kernelspec": {
   "display_name": "DeepLearning",
   "language": "python",
   "name": "deeplearning"
  },
  "language_info": {
   "codemirror_mode": {
    "name": "ipython",
    "version": 3
   },
   "file_extension": ".py",
   "mimetype": "text/x-python",
   "name": "python",
   "nbconvert_exporter": "python",
   "pygments_lexer": "ipython3",
   "version": "3.8.12"
  },
  "toc": {
   "base_numbering": 1,
   "nav_menu": {},
   "number_sections": true,
   "sideBar": true,
   "skip_h1_title": false,
   "title_cell": "Table of Contents",
   "title_sidebar": "Contents",
   "toc_cell": false,
   "toc_position": {
    "height": "calc(100% - 180px)",
    "left": "10px",
    "top": "150px",
    "width": "304.475px"
   },
   "toc_section_display": true,
   "toc_window_display": true
  },
  "varInspector": {
   "cols": {
    "lenName": 16,
    "lenType": 16,
    "lenVar": 40
   },
   "kernels_config": {
    "python": {
     "delete_cmd_postfix": "",
     "delete_cmd_prefix": "del ",
     "library": "var_list.py",
     "varRefreshCmd": "print(var_dic_list())"
    },
    "r": {
     "delete_cmd_postfix": ") ",
     "delete_cmd_prefix": "rm(",
     "library": "var_list.r",
     "varRefreshCmd": "cat(var_dic_list()) "
    }
   },
   "types_to_exclude": [
    "module",
    "function",
    "builtin_function_or_method",
    "instance",
    "_Feature"
   ],
   "window_display": false
  }
 },
 "nbformat": 4,
 "nbformat_minor": 5
}
