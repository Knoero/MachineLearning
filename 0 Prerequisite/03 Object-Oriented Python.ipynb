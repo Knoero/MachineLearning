{
 "cells": [
  {
   "cell_type": "markdown",
   "id": "698d58d7",
   "metadata": {},
   "source": [
    "**Information**: *Main concepts and examples of object-oriented python, what many of today's software tools for deep learning are based on*\n",
    "\n",
    "**Written by**: *Zihao Xu*\n",
    "\n",
    "**Last Update Date**: *05.29.2021*"
   ]
  },
  {
   "cell_type": "markdown",
   "id": "f3de19a0",
   "metadata": {},
   "source": [
    "# Basic Concepts\n",
    "## Definition of Class\n",
    "- At a high level of conceptualization, a class can be thought of as a category\n",
    "- For the purpose of writing code, a class is a data structure with **attributes**\n",
    "    - In python, the word **attribute** is used to describe any *property*,*variable* or *method*, that can be invoked with the dot operator on either the class or an instance constructed from a class\n",
    "- An **instance** constructed from a class will have specific values for the attributes\n",
    "- To endow instances with behaviors, a class can be provided with **methods**\n",
    "\n",
    "## Methods\n",
    "- A method is a function to be invoked on an instance of the class **or** the class itself\n",
    "- A method that is invoked on an instance is sometimes called an **instance method**\n",
    "- A method that is invoked directly on a class is called a **class method** or a **static method**\n",
    "- To define it formally, a **method** is a **function** that can be invoked on an object using the *object-oriented call syntax* that for python is of the form **object.method()**, where *object* may either be an instance of a class or the class itself\n",
    "\n",
    "## Function Objects vs. Callables\n",
    "- Python makes an distinction between **function objects** and **callables**. While all function objects are callables, not all callables are function objects\n",
    "- A **function object** can only be created with a **def** statement\n",
    "- A **callable** is any object that can be called like a function\n",
    "    - A class name can be called directly to yield an instance of a class\n",
    "    - An instance object can also be called directly; what that yields depends on whether or not underlying class provides a definition for the **system-supplied \\_\\_call\\_\\_** method\n",
    "- In Python, '()' is an Operator - the Function Call Operator\n",
    "    - E.g. for a call **X** with method **foo**\n",
    "        - calling just **X.foo** returns the method object itself that **X.foo** stands for \n",
    "        - calling **X.foo()** cause execution of the function object associated with the method call\n",
    "\n",
    "## Pre-Defined Attributes\n",
    "- A class in Python comes with certain **pre-defined attributes**\n",
    "- The **pre-defined attributes**, both variables and methods, employ a special naming convention: *the names begin and end with two underscores*\n",
    "- The *pre-defined attributes* of a class are not to be confused with the **programmer-supplied attributes** such as the class and instance variables and the programmer-supplied methods\n",
    "- May think of the *pre-defined* attributes as the *external properties* of classes and instances and the *programmer-supplied* attributes as the *internal properties*\n",
    "- Commonly used pre-defined attributes:\n",
    "\n",
    "## Instance variables, Class variables\n",
    "- Attributes that take data values on a per-instance basis are frequently referred to as **instance variables**\n",
    "- Attributes that take data values on a per-class basis are called **class variables**, *static attributes* or *class attributes*\n",
    "\n",
    "## Encapsulation\n",
    "- Hiding or controlling access to the implementation-related attributes and the methods of a class is called **encapsulation**\n",
    "- With appropriate data encapsulation, a class will present a well-defined **public interface** fro its **clients**, the uses of the class\n",
    "- A client should only access those data attributes and invoke those methods that are in the *public interface*\n",
    "- As opposed to OO in C++ and Java, all of the attributes defined for a class are **available to all** in Python\n",
    "    - A Python class and a Python instance object are so open that they can be modified after the objects are brought into existence\n",
    "\n",
    "## Inheritance\n",
    "- **Inheritance** in object-oriented code allows a subclass to inherit some or all of the attributes and methods of its superclass(es)\n",
    "\n",
    "## Polymorphism\n",
    "- **Polymorphism** basically means that a given category of objects can exhibit multiple identities **at the same time**.\n",
    "- Allows us to manipulate instances belonging to the different classes of a **hierarchy** through a common interface defined for the **root class**."
   ]
  },
  {
   "cell_type": "markdown",
   "id": "951bc8a8",
   "metadata": {},
   "source": [
    "%%latex\n",
    "\\newpage"
   ]
  },
  {
   "cell_type": "markdown",
   "id": "4626f76b",
   "metadata": {},
   "source": [
    "# Defining a Class in Python\n",
    "## Syntax for defining a class and create an instance"
   ]
  },
  {
   "cell_type": "code",
   "execution_count": 1,
   "id": "c52a1dfb",
   "metadata": {},
   "outputs": [
    {
     "name": "stdout",
     "output_type": "stream",
     "text": [
      "True True\n"
     ]
    }
   ],
   "source": [
    "# ---------- Definition ---------\n",
    "class Bird:\n",
    "    alive = True\n",
    "    is_animal = True\n",
    "\n",
    "\n",
    "# --------- End of definition ----\n",
    "\n",
    "# Create an instance in the defined class\n",
    "bird_1 = Bird()\n",
    "\n",
    "# Use dot operator to access variables in the instance\n",
    "print(bird_1.alive, bird_1.is_animal)"
   ]
  },
  {
   "cell_type": "markdown",
   "id": "e34b7f21",
   "metadata": {},
   "source": [
    "## Syntax for methods of a class\n",
    "- A method defined for a class must have special syntax that *reserves the first parameter for the object on which the method is invoked*. This parameter is typically names **self** for instance methods, but could be any legal Python identifier\n",
    "    - Usually, any instance variables would be in the syntax **self.variable**\n",
    "- **Only one method per name in a class** regardless of the parameter structure of the function\n",
    "    - All method names are stored as keys in the namespace dictionary while the dictionary keys must be unique, so there can exist only one function object for a given method name\n",
    "    - A more general case is that a class can have **only one attribute of a given name**\n",
    "- Defining a method outside the class\n",
    "    - It is not necessary for the body of a method to be enclosed by a class\n",
    "    - A function object created outside a class can be assigned to a name inside the class.\n",
    "        - The name will acquire the function object as its binding.\n",
    "        - Subsequently, that name can be used in a method call as if the method had been defined inside the class"
   ]
  },
  {
   "cell_type": "code",
   "execution_count": 2,
   "id": "6b076f5d",
   "metadata": {},
   "outputs": [
    {
     "name": "stdout",
     "output_type": "stream",
     "text": [
      "50\n"
     ]
    }
   ],
   "source": [
    "# ---------- Definition of method ----------\n",
    "def total(self, arg1, arg2):\n",
    "    self.N = arg1 + arg2\n",
    "\n",
    "\n",
    "# ---------- Definition of class -----------\n",
    "class X:\n",
    "    # Assign the function object to foo\n",
    "    foo = total\n",
    "\n",
    "    # Define a method returns the value N\n",
    "    def get_N(self):\n",
    "        return self.N\n",
    "\n",
    "\n",
    "# --------- End of Definition --------------\n",
    "\n",
    "# Create an instance with initial value 10\n",
    "X_obj = X()\n",
    "# Call the foo method in the class\n",
    "X_obj.foo(20, 30)\n",
    "print(X_obj.get_N())"
   ]
  },
  {
   "cell_type": "markdown",
   "id": "209809b8",
   "metadata": {},
   "source": [
    "## \\_\\_init\\_\\_() method\n",
    "- A pre-defined attribute to initialize the instance returned by a call to the constructor\n",
    "- It will be invoked automatically when creating an instance by calling **class()**\n",
    "- The parameter *self* in the call to \\_\\_init\\_\\_ is set implicitly to the instance under construction\n",
    "- If you do not provide a class with its own \\_\\_init\\_\\_, the system will provide the class with a **default** \\_\\_init\\_\\_(). You override the default definition by providing your own implementation for \\_\\_init\\_\\_"
   ]
  },
  {
   "cell_type": "code",
   "execution_count": 3,
   "id": "0d3c71f4",
   "metadata": {},
   "outputs": [
    {
     "name": "stdout",
     "output_type": "stream",
     "text": [
      "John 20 True True\n",
      "Alice 18 True True\n"
     ]
    }
   ],
   "source": [
    "# ---------- Definition ---------\n",
    "class Person:\n",
    "    # Descriptions of the class\n",
    "    \"A very simple class\"\n",
    "    # These variables are class variables\n",
    "    # All instances in this class share the same value for these varibles when constructed\n",
    "    alive = True\n",
    "    is_animal = True\n",
    "\n",
    "    # Customize the __init__() method\n",
    "    def __init__(self, name, age):\n",
    "        # These variables are instance variables\n",
    "        # The value are to be assigned for every instance to be contructed\n",
    "        self.name = name\n",
    "        self.age = age\n",
    "\n",
    "\n",
    "# --------- End of definition ----\n",
    "\n",
    "# Create two instances in the defined class\n",
    "person_1 = Person(\"John\", 20)\n",
    "person_2 = Person(\"Alice\", 18)\n",
    "\n",
    "# See the user-supplied attributes of the two instances\n",
    "print(person_1.name, person_1.age, person_1.alive, person_1.is_animal)\n",
    "print(person_2.name, person_2.age, person_2.alive, person_2.is_animal)"
   ]
  },
  {
   "cell_type": "markdown",
   "id": "1c5dc82f",
   "metadata": {},
   "source": [
    "## Defining Static Attributes for a Class\n",
    "- As class definition usually includes two different kinds of attributes\n",
    "    - attributes exist on a per-instance basis\n",
    "    - attributes exist on a per-class basis, which are commonly referred to be as being **static**\n",
    "- A variable becomes **static** is it is declared outside of any method in a class definition\n",
    "- For a method to become static, it needs the **staticmethod()** wrapper\n",
    "    - The modern approach to achieving the same effect is through the use of the **staticmethod decorator**"
   ]
  },
  {
   "cell_type": "code",
   "execution_count": 4,
   "id": "0c0aea44",
   "metadata": {
    "scrolled": true
   },
   "outputs": [
    {
     "name": "stdout",
     "output_type": "stream",
     "text": [
      "Number of instances: 0\n",
      "Create an instance owned by owner 1 with ID 1\n",
      "Create an instance owned by owner 2 with ID 2\n",
      "Number of instances: 2\n"
     ]
    }
   ],
   "source": [
    "# ---------- Definition ---------\n",
    "class X:\n",
    "    id_num = 0\n",
    "\n",
    "    @staticmethod\n",
    "    def get_id():\n",
    "        return X.id_num\n",
    "\n",
    "    @classmethod\n",
    "    def get_next_id(self):\n",
    "        X.id_num += 1\n",
    "        return X.id_num\n",
    "\n",
    "    def __init__(self, owner):\n",
    "        self.owner = owner\n",
    "        self.id = X.get_next_id()\n",
    "\n",
    "\n",
    "# --------- End of definition ----\n",
    "\n",
    "# Example of using static method and static variables\n",
    "# Notice that static method can be directly called without instances\n",
    "print(\"Number of instances: %d\" % (X.get_id()))\n",
    "X_1 = X(\"owner 1\")\n",
    "print(\"Create an instance owned by %s with ID %d\" % (X_1.owner, X_1.id))\n",
    "X_2 = X(\"owner 2\")\n",
    "print(\"Create an instance owned by %s with ID %d\" % (X_2.owner, X_2.id))\n",
    "# Static method can also be invoked on instances\n",
    "print(\"Number of instances: %d\" % (X_1.get_id()))"
   ]
  },
  {
   "cell_type": "markdown",
   "id": "3878bd77",
   "metadata": {},
   "source": [
    "## Making a Class Instance Iterable\n",
    "- A class instance is iterable if you can loop over the data stored in the instance. The data may be stored in the different attributes and in ways not directly accessible by array like indexing\n",
    "- A class must provide for an iterator in order for its instances to be iterable and this iterable must be returned by the definition of **\\_\\_iter()\\_\\_** for the class\n",
    "- Commonly, the iterator defined for a class will itself be a class that provides implementation for a method named **\\_\\_next\\_\\_** in Python3"
   ]
  },
  {
   "cell_type": "code",
   "execution_count": 5,
   "id": "5542a2cf",
   "metadata": {},
   "outputs": [
    {
     "name": "stdout",
     "output_type": "stream",
     "text": [
      "7\n",
      "[7, 9, 1, 3, 5]\n",
      "7 9 1 3 5 \n",
      "7 9 1 3 5 "
     ]
    }
   ],
   "source": [
    "import random\n",
    "\n",
    "random.seed(0)\n",
    "\n",
    "\n",
    "# Define the class\n",
    "class X:\n",
    "    # Initialize with an array\n",
    "    def __init__(self, arr):\n",
    "        self.arr = arr\n",
    "\n",
    "    # Get the desired number with index\n",
    "    def get_num(self, i):\n",
    "        return self.arr[i]\n",
    "\n",
    "    # When called with () operator,return the array\n",
    "    def __call__(self):\n",
    "        return self.arr\n",
    "\n",
    "    def __iter__(self):\n",
    "        return Xiterator(self)\n",
    "\n",
    "\n",
    "# Define the iterator\n",
    "class Xiterator:\n",
    "    def __init__(self, X_obj):\n",
    "        self.items = X_obj.arr\n",
    "        self.index = -1\n",
    "\n",
    "    def __iter__(self):\n",
    "        return self\n",
    "\n",
    "    def __next__(self):\n",
    "        self.index += 1\n",
    "        if self.index < len(self.items):\n",
    "            return self.items[self.index]\n",
    "        else:\n",
    "            raise StopIteration\n",
    "\n",
    "\n",
    "# Create an instance\n",
    "X_obj = X(random.sample(range(1, 10), 5))\n",
    "print(X_obj.get_num(0))\n",
    "print(X_obj())\n",
    "# Iteration over the instance\n",
    "for item in X_obj:\n",
    "    print(item, end=\" \")\n",
    "print(\"\")\n",
    "\n",
    "# Create another instance of the iterator over the same instance of X\n",
    "iters = iter(X_obj)\n",
    "for ii in range(len(X_obj())):\n",
    "    print(iters.__next__(), end=\" \")"
   ]
  },
  {
   "cell_type": "markdown",
   "id": "dc81507b",
   "metadata": {},
   "source": [
    "%%latex\n",
    "\\newpage"
   ]
  },
  {
   "cell_type": "markdown",
   "id": "c880fefa",
   "metadata": {},
   "source": [
    "# How Python Creates and Destructs an Instance\n",
    "## Create an Instance from a Class\n",
    "- **Step 1**:\n",
    "    - The call to the constructor creates what may be referred to as a generic instance from the class definition\n",
    "    - The generic instance's **memory allocation** is customized with the code in the method **\\_\\_new\\_\\_()** of the class. This method may either be defined directly for the class or the class may inherit it from one of its parent classes\n",
    "    - The method **\\_\\_new\\_\\_()** is implicitly considered by Python to be a static method. Its first parameter is meant to be set equal to the name of the class whose instance is desired and it must return the instance created \n",
    "    - If a class does not provide its own definition for **\\_\\_new\\_\\_()**, a search is conducted for this method in the parent classes of the class.\n",
    "- **Step 2**:\n",
    "    - Then the instance method **\\_\\_init\\_\\_()** of the class is invoked to initialize the instance returned by **\\_\\_new\\_\\_()**\n",
    "- Notice: \n",
    "    - We do not need any special declaration for **\\_\\_new\\_\\_()** to be recognized as static because this method is special-cased by Python"
   ]
  },
  {
   "cell_type": "code",
   "execution_count": 6,
   "id": "003ecfee",
   "metadata": {},
   "outputs": [
    {
     "name": "stdout",
     "output_type": "stream",
     "text": [
      "__new__ invoked\n",
      "__init__ invoked\n",
      "['__class__', '__delattr__', '__dict__', '__dir__', '__doc__', '__eq__', '__format__', '__ge__', '__getattribute__', '__gt__', '__hash__', '__init__', '__init_subclass__', '__le__', '__lt__', '__module__', '__ne__', '__new__', '__reduce__', '__reduce_ex__', '__repr__', '__setattr__', '__sizeof__', '__str__', '__subclasshook__', '__weakref__']\n"
     ]
    }
   ],
   "source": [
    "# ---------- Definition ---------\n",
    "class X:\n",
    "    def __new__(cls):\n",
    "        print(\"__new__ invoked\")\n",
    "        return object.__new__(cls)\n",
    "\n",
    "    def __init__(self):\n",
    "        print(\"__init__ invoked\")\n",
    "\n",
    "\n",
    "# --------- End of definition ----\n",
    "\n",
    "# Create an instance\n",
    "X_obj = X()\n",
    "print(dir(X_obj))"
   ]
  },
  {
   "cell_type": "markdown",
   "id": "01da3471",
   "metadata": {},
   "source": [
    "## Destruction of Instance Objects\n",
    "- Python comes with an automatic garbage collector. Each object created is kept track of reference counting. Each time an object is assigned to a variable, its reference count goes up by one, signifying the fact that there is one more variable holding a reference to the object\n",
    "- And each time a variable whose referent object either goes out of scope or is changed, the reference count associated with the object is decreased by one. When the reference count associated with an object goes to zero, it becomes a candidate for garbage collection\n",
    "- Python provides us with **\\_\\_del\\_\\_** for cleaning up beyond what is done by automatic garbage collection"
   ]
  },
  {
   "cell_type": "code",
   "execution_count": 7,
   "id": "82b60de0",
   "metadata": {},
   "outputs": [
    {
     "name": "stdout",
     "output_type": "stream",
     "text": [
      "__init__ invoked\n",
      "['__class__', '__del__', '__delattr__', '__dict__', '__dir__', '__doc__', '__eq__', '__format__', '__ge__', '__getattribute__', '__gt__', '__hash__', '__init__', '__init_subclass__', '__le__', '__lt__', '__module__', '__ne__', '__new__', '__reduce__', '__reduce_ex__', '__repr__', '__setattr__', '__sizeof__', '__str__', '__subclasshook__', '__weakref__']\n",
      "__del__ invoked\n"
     ]
    },
    {
     "ename": "NameError",
     "evalue": "name 'X_obj' is not defined",
     "output_type": "error",
     "traceback": [
      "\u001b[1;31m---------------------------------------------------------------------------\u001b[0m",
      "\u001b[1;31mNameError\u001b[0m                                 Traceback (most recent call last)",
      "\u001b[1;32m<ipython-input-7-c072168ef5c0>\u001b[0m in \u001b[0;36m<module>\u001b[1;34m\u001b[0m\n\u001b[0;32m     13\u001b[0m \u001b[1;31m# Delete X_obj\u001b[0m\u001b[1;33m\u001b[0m\u001b[1;33m\u001b[0m\u001b[1;33m\u001b[0m\u001b[0m\n\u001b[0;32m     14\u001b[0m \u001b[1;32mdel\u001b[0m \u001b[0mX_obj\u001b[0m\u001b[1;33m\u001b[0m\u001b[1;33m\u001b[0m\u001b[0m\n\u001b[1;32m---> 15\u001b[1;33m \u001b[0mprint\u001b[0m\u001b[1;33m(\u001b[0m\u001b[0mdir\u001b[0m\u001b[1;33m(\u001b[0m\u001b[0mX_obj\u001b[0m\u001b[1;33m)\u001b[0m\u001b[1;33m)\u001b[0m\u001b[1;33m\u001b[0m\u001b[1;33m\u001b[0m\u001b[0m\n\u001b[0m",
      "\u001b[1;31mNameError\u001b[0m: name 'X_obj' is not defined"
     ]
    }
   ],
   "source": [
    "# ---------- Definition ---------\n",
    "class X:\n",
    "    def __init__(self):\n",
    "        print(\"__init__ invoked\")\n",
    "\n",
    "    def __del__(self):\n",
    "        print(\"__del__ invoked\")\n",
    "\n",
    "\n",
    "# --------- End of definition ----\n",
    "\n",
    "# Create an instance\n",
    "X_obj = X()\n",
    "print(dir(X_obj))\n",
    "# Delete X_obj\n",
    "del X_obj\n",
    "print(dir(X_obj))"
   ]
  },
  {
   "cell_type": "markdown",
   "id": "688fb645",
   "metadata": {},
   "source": [
    "%%latex\n",
    "\\newpage"
   ]
  },
  {
   "cell_type": "markdown",
   "id": "03413cb9",
   "metadata": {},
   "source": [
    "# Pre-defined Attributes\n",
    "## Pre-defined Attributes for a Class\n",
    "- Being an object in its own right, every Python class comes equipped with the following **pre-defined attributes**\n",
    "    - \\_\\_name\\_\\_: string name of the class\n",
    "    - \\_\\_doc\\_\\_: documentation string for the class\n",
    "    - \\_\\_bases\\_\\_: tuple of parent classes of the class\n",
    "    - \\_\\_dict\\_\\_: dictionary whose keys are the names of the **class variables** and the **methods** of the class and whose values are the corresponding binding\n",
    "    - \\_\\_module\\_\\_: module in which the class is defined\n",
    "- As an alternative to invoking \\_\\_dict\\_\\_ on a class name, one can also use the built-in global **dir()** that returns a list of all the attribute names, for variables and for methods, for the class (both directly defined for the class and inherited from a class's superclasses)"
   ]
  },
  {
   "cell_type": "code",
   "execution_count": 8,
   "id": "7417183c",
   "metadata": {},
   "outputs": [
    {
     "name": "stdout",
     "output_type": "stream",
     "text": [
      "Person\n",
      "A very simple class\n",
      "(<class 'object'>,)\n",
      "__main__\n",
      "{'__module__': '__main__', '__doc__': 'A very simple class', 'alive': True, 'is_animal': True, '__init__': <function Person.__init__ at 0x0000025C57082EE0>, '__dict__': <attribute '__dict__' of 'Person' objects>, '__weakref__': <attribute '__weakref__' of 'Person' objects>}\n",
      "['__class__', '__delattr__', '__dict__', '__dir__', '__doc__', '__eq__', '__format__', '__ge__', '__getattribute__', '__gt__', '__hash__', '__init__', '__init_subclass__', '__le__', '__lt__', '__module__', '__ne__', '__new__', '__reduce__', '__reduce_ex__', '__repr__', '__setattr__', '__sizeof__', '__str__', '__subclasshook__', '__weakref__', 'alive', 'is_animal']\n"
     ]
    }
   ],
   "source": [
    "# Print out the class attributes\n",
    "print(Person.__name__)\n",
    "print(Person.__doc__)\n",
    "print(Person.__bases__)\n",
    "print(Person.__module__)\n",
    "print(Person.__dict__)\n",
    "print(dir(Person))"
   ]
  },
  {
   "cell_type": "markdown",
   "id": "ecd19bc3",
   "metadata": {},
   "source": [
    "## Predefined Attributes for an instance of the class\n",
    "- Since every class instance is also an object in its own right, it also comes equipped with certain pre-defined attributes. Usually the following two are of particular interests\n",
    "    - \\_\\_class\\_\\_: string name of the class form which the instance was constructed\n",
    "    - \\_\\_dict\\_\\_: dictionary whose keys are the names of the **instance variable**\n",
    "        - Notice: It's important to realize that the namespace as represented by the dictionary \\_\\_dict\\_\\_ for a **class object** is not the same as the namespace as represented by the dictionary \\_\\_dict\\_\\_ for an **instance object** constructed from the class\n",
    "- When called on an instance, **dir()** will return the same list as above plus any instance variables defined for the class"
   ]
  },
  {
   "cell_type": "code",
   "execution_count": 9,
   "id": "af4ee2d2",
   "metadata": {},
   "outputs": [
    {
     "name": "stdout",
     "output_type": "stream",
     "text": [
      "<class '__main__.Person'>\n",
      "{'name': 'John', 'age': 20}\n",
      "['__class__', '__delattr__', '__dict__', '__dir__', '__doc__', '__eq__', '__format__', '__ge__', '__getattribute__', '__gt__', '__hash__', '__init__', '__init_subclass__', '__le__', '__lt__', '__module__', '__ne__', '__new__', '__reduce__', '__reduce_ex__', '__repr__', '__setattr__', '__sizeof__', '__str__', '__subclasshook__', '__weakref__', 'age', 'alive', 'is_animal', 'name']\n"
     ]
    }
   ],
   "source": [
    "# Print out instance attributes\n",
    "print(person_1.__class__)\n",
    "print(person_1.__dict__)\n",
    "print(dir(person_1))"
   ]
  },
  {
   "cell_type": "markdown",
   "id": "e45d8347",
   "metadata": {},
   "source": [
    "## The Root Class *object*\n",
    "- All classes are subclassed, either directly or indirectly from the root class **object**\n",
    "- The **object** class defines a set of methods with default implementations that are inherited by all classes derived from object\n",
    "- The list of attributes defined for the **object** class can be seen by printing out the list returned by the built-in **dir()** function\n",
    "- Alternatively, the \\_\\_dict\\_\\_ attribute will provide both the attribute names and their binding"
   ]
  },
  {
   "cell_type": "code",
   "execution_count": 10,
   "id": "afd7248e",
   "metadata": {},
   "outputs": [
    {
     "name": "stdout",
     "output_type": "stream",
     "text": [
      "['__class__', '__delattr__', '__dir__', '__doc__', '__eq__', '__format__', '__ge__', '__getattribute__', '__gt__', '__hash__', '__init__', '__init_subclass__', '__le__', '__lt__', '__ne__', '__new__', '__reduce__', '__reduce_ex__', '__repr__', '__setattr__', '__sizeof__', '__str__', '__subclasshook__']\n",
      "{'__repr__': <slot wrapper '__repr__' of 'object' objects>, '__hash__': <slot wrapper '__hash__' of 'object' objects>, '__str__': <slot wrapper '__str__' of 'object' objects>, '__getattribute__': <slot wrapper '__getattribute__' of 'object' objects>, '__setattr__': <slot wrapper '__setattr__' of 'object' objects>, '__delattr__': <slot wrapper '__delattr__' of 'object' objects>, '__lt__': <slot wrapper '__lt__' of 'object' objects>, '__le__': <slot wrapper '__le__' of 'object' objects>, '__eq__': <slot wrapper '__eq__' of 'object' objects>, '__ne__': <slot wrapper '__ne__' of 'object' objects>, '__gt__': <slot wrapper '__gt__' of 'object' objects>, '__ge__': <slot wrapper '__ge__' of 'object' objects>, '__init__': <slot wrapper '__init__' of 'object' objects>, '__new__': <built-in method __new__ of type object at 0x00007FFF9D6FBB50>, '__reduce_ex__': <method '__reduce_ex__' of 'object' objects>, '__reduce__': <method '__reduce__' of 'object' objects>, '__subclasshook__': <method '__subclasshook__' of 'object' objects>, '__init_subclass__': <method '__init_subclass__' of 'object' objects>, '__format__': <method '__format__' of 'object' objects>, '__sizeof__': <method '__sizeof__' of 'object' objects>, '__dir__': <method '__dir__' of 'object' objects>, '__class__': <attribute '__class__' of 'object' objects>, '__doc__': 'The base class of the class hierarchy.\\n\\nWhen called, it accepts no arguments and returns a new featureless\\ninstance that has no instance attributes and cannot be given any.\\n'}\n"
     ]
    }
   ],
   "source": [
    "# Print out the attributes of root class - object\n",
    "print(dir(object))\n",
    "print(object.__dict__)"
   ]
  },
  {
   "cell_type": "markdown",
   "id": "b0b94b8f",
   "metadata": {},
   "source": [
    "%%latex\n",
    "\\newpage"
   ]
  },
  {
   "cell_type": "markdown",
   "id": "d38b0417",
   "metadata": {},
   "source": [
    "# Multiple-Inheritance Class Hierarchies\n",
    "## Extending a Class\n",
    "- The syntax of **calling a Superclass Method Definition Directly** in the following codes, in the example:\n",
    "    - Both the **promote()** and **myprint()** methods of the derived class to call on the method of the same names in the base class to do part of the job\n",
    "    - It is accomplished by calling the methods promote() and the myprint() directly on the class name Employee"
   ]
  },
  {
   "cell_type": "code",
   "execution_count": 11,
   "id": "0b9fc100",
   "metadata": {},
   "outputs": [
    {
     "name": "stdout",
     "output_type": "stream",
     "text": [
      "Orpheus staff \n",
      "manager\n",
      "Orpheus manager \n",
      "\n",
      "Zaphod manager sales\n",
      "executive\n",
      "Zaphod executive sales\n",
      "\n",
      "True\n",
      "False\n",
      "True\n",
      "True\n"
     ]
    }
   ],
   "source": [
    "# base class Employee\n",
    "class Employee:\n",
    "    def __init__(self, nam, pos):\n",
    "        self.name = nam\n",
    "        self.position = pos\n",
    "\n",
    "    promotion_table = {\n",
    "        \"shop_floor\": \"staff\",\n",
    "        \"staff\": \"manager\",\n",
    "        \"manager\": \"executive\"\n",
    "    }\n",
    "\n",
    "    def promote(self):\n",
    "        self.position = Employee.promotion_table[self.position]\n",
    "\n",
    "    def myprint(self):\n",
    "        print(self.name, \"%s\" % self.position, end=\" \")\n",
    "\n",
    "\n",
    "# Derived class Manager\n",
    "class Manager(Employee):\n",
    "    def __init__(self, nam, pos, dept):\n",
    "        # Call the __init__ method in Employee class directly\n",
    "        Employee.__init__(self, nam, pos)\n",
    "        self.dept = dept\n",
    "\n",
    "    def promote(self):\n",
    "        if self.position == \"executive\":\n",
    "            print(\"not possible\")\n",
    "            return\n",
    "        # Call the promote method in Employee class directly\n",
    "        Employee.promote(self)\n",
    "\n",
    "    def myprint(self):\n",
    "        Employee.myprint(self)\n",
    "        # Call the myprint method in Employee class directly\n",
    "        print(self.dept)\n",
    "\n",
    "\n",
    "# Create an employee \"Orpheus\" with initial position \"staff\" from the base class\n",
    "emp = Employee(\"Orpheus\", \"staff\")\n",
    "emp.myprint()\n",
    "print(\"\")\n",
    "# Use the method in base class to promote this employee\n",
    "emp.promote()\n",
    "print(emp.position)\n",
    "emp.myprint()\n",
    "print(\"\\n\")\n",
    "\n",
    "# Create a manager \"Zaphod\" with initial position \"manager\" in department \"sales\" from the derived class\n",
    "man = Manager(\"Zaphod\", \"manager\", \"sales\")\n",
    "man.myprint()\n",
    "man.promote()\n",
    "print(man.position)\n",
    "man.myprint()\n",
    "print(\"\")\n",
    "\n",
    "# See the relationship between base/derived instances and base/derived classes\n",
    "# The derived instance would be an instance in the base class\n",
    "print(isinstance(man, Employee))\n",
    "# The base instance would not be an instance in the derived class\n",
    "print(isinstance(emp, Manager))\n",
    "# All instances are in the object class\n",
    "print(isinstance(man, object))\n",
    "print(isinstance(emp, object))"
   ]
  },
  {
   "cell_type": "markdown",
   "id": "776e43cd",
   "metadata": {},
   "source": [
    "- The methods of the derived class can invoke the built-in **super()** for calling on the methods of the parent class"
   ]
  },
  {
   "cell_type": "code",
   "execution_count": 12,
   "id": "2ec2e7db",
   "metadata": {},
   "outputs": [
    {
     "name": "stdout",
     "output_type": "stream",
     "text": [
      "Orpheus staff \n",
      "manager\n",
      "Orpheus manager \n",
      "\n",
      "Zaphod manager sales\n",
      "executive\n",
      "Zaphod executive sales\n"
     ]
    }
   ],
   "source": [
    "# base class Employee\n",
    "class Employee:\n",
    "    def __init__(self, nam, pos):\n",
    "        self.name = nam\n",
    "        self.position = pos\n",
    "\n",
    "    promotion_table = {\n",
    "        \"shop_floor\": \"staff\",\n",
    "        \"staff\": \"manager\",\n",
    "        \"manager\": \"executive\"\n",
    "    }\n",
    "\n",
    "    def promote(self):\n",
    "        self.position = Employee.promotion_table[self.position]\n",
    "\n",
    "    def myprint(self):\n",
    "        print(self.name, \"%s\" % self.position, end=\" \")\n",
    "\n",
    "\n",
    "# Derived class Manager\n",
    "class Manager(Employee):\n",
    "    def __init__(self, nam, pos, dept):\n",
    "        # Use super() to call the __init__ method in Employee class\n",
    "        super().__init__(nam, pos)\n",
    "        self.dept = dept\n",
    "\n",
    "    def promote(self):\n",
    "        if self.position == \"executive\":\n",
    "            print(\"not possible\")\n",
    "            return\n",
    "        # Use super() to call the promote method in Employee class\n",
    "        super(Manager, self).promote()\n",
    "\n",
    "    def myprint(self):\n",
    "        # Use super() to call the myprint method in Employee class\n",
    "        super(Manager, self).myprint()\n",
    "        print(self.dept)\n",
    "\n",
    "\n",
    "# Create an employee \"Orpheus\" with initial position \"staff\" from the base class\n",
    "emp = Employee(\"Orpheus\", \"staff\")\n",
    "emp.myprint()\n",
    "print(\"\")\n",
    "# Use the method in base class to promote this employee\n",
    "emp.promote()\n",
    "print(emp.position)\n",
    "emp.myprint()\n",
    "print(\"\\n\")\n",
    "\n",
    "# Create a manager \"Zaphod\" with initial position \"manager\" in department \"sales\" from the derived class\n",
    "man = Manager(\"Zaphod\", \"manager\", \"sales\")\n",
    "man.myprint()\n",
    "man.promote()\n",
    "print(man.position)\n",
    "man.myprint()"
   ]
  },
  {
   "cell_type": "markdown",
   "id": "acd426c6",
   "metadata": {},
   "source": [
    "## Derive a class from multiple base classes\n",
    "- Python allows a class to be derived from multiple base classes\n",
    "- The order in which the class and its bases are searched for the implementation code is commonly referred to as the **Method Resolution Order (MRO)** in Python\n",
    "- The following example shows the syntax for multiple inheritance"
   ]
  },
  {
   "cell_type": "code",
   "execution_count": 13,
   "id": "27c9a1dd",
   "metadata": {},
   "outputs": [
    {
     "name": "stdout",
     "output_type": "stream",
     "text": [
      "called D's init\n",
      "called B's init\n",
      "called C's init\n",
      "called A's init\n",
      "(<class '__main__.D'>, <class '__main__.B'>, <class '__main__.C'>, <class '__main__.A'>, <class 'object'>)\n"
     ]
    }
   ],
   "source": [
    "class A(object):\n",
    "    def __init__(self):\n",
    "        print(\"called A's init\")\n",
    "\n",
    "\n",
    "class B(A):\n",
    "    def __init__(self):\n",
    "        print(\"called B's init\")\n",
    "        super().__init__()\n",
    "\n",
    "\n",
    "class C(A):\n",
    "    def __init__(self):\n",
    "        print(\"called C's init\")\n",
    "        super().__init__()\n",
    "\n",
    "\n",
    "class D(B, C):\n",
    "    def __init__(self):\n",
    "        print(\"called D's init\")\n",
    "        super().__init__()\n",
    "\n",
    "\n",
    "D_obj = D()\n",
    "print(D.__mro__)"
   ]
  },
  {
   "cell_type": "markdown",
   "id": "7b6eb4f6",
   "metadata": {},
   "source": [
    "%%latex\n",
    "\\newpage"
   ]
  },
  {
   "cell_type": "markdown",
   "id": "5eb51c56",
   "metadata": {},
   "source": [
    "# An example applying basic OO concepts\n",
    "\n",
    "1. Create a class named **People** that has three instance variables named:\n",
    "     - first_names\n",
    "     - middle_names\n",
    "     - last_names\n",
    "2. Expand the class definition and endow it with an iterator, iterating through the data stored in the **People** instance should print out the 10 names in \"first_name second_name third_name\" order\n",
    "3. Further expand the definition of the class and endow it with another variable that takes one of the following three values. When iterating through the instance, it prints out the names in the chosen format.\n",
    "     - first middle last\n",
    "     - last first middle\n",
    "     - last, first middle\n",
    "4. Further expand the definition of the class and make its instances callable. When the function-call operator \"()\" is applied, it shoud print out a sorted list of just the last names"
   ]
  },
  {
   "cell_type": "code",
   "execution_count": 14,
   "id": "7eaf9226",
   "metadata": {},
   "outputs": [],
   "source": [
    "# ------------------------------ class People ------------------------------\n",
    "class People:\n",
    "    def __init__(self, nam1, nam2, nam3, order):\n",
    "        self.first_names = nam1\n",
    "        self.middle_names = nam2\n",
    "        self.last_names = nam3\n",
    "        self.order = order\n",
    "\n",
    "    def __iter__(self):\n",
    "        return PeopleIterator(self)\n",
    "\n",
    "    def __call__(self):\n",
    "        index = -1\n",
    "        for _ in range(len(self.last_names)):\n",
    "            index += 1\n",
    "            print(self.last_names[index], end='\\n')\n",
    "        return self.last_names\n",
    "\n",
    "\n",
    "class PeopleIterator:\n",
    "    def __init__(self, PeopleObject):\n",
    "        self.List1 = PeopleObject.first_names\n",
    "        self.List2 = PeopleObject.middle_names\n",
    "        self.List3 = PeopleObject.last_names\n",
    "        self.order = PeopleObject.order\n",
    "        self.index = -1\n",
    "\n",
    "    def __iter__(self):\n",
    "        return self\n",
    "\n",
    "    def __next__(self):\n",
    "        self.index += 1\n",
    "        NameList = []\n",
    "        NameList2 = []\n",
    "        if self.index < len(self.List1):\n",
    "            if self.order == 'first_name_first':\n",
    "                NameList.append(self.List1[self.index])\n",
    "                NameList.append(self.List2[self.index])\n",
    "                NameList.append(self.List3[self.index])\n",
    "                Name = \" \".join(NameList)\n",
    "            elif self.order == 'last_name_first':\n",
    "                NameList.append(self.List3[self.index])\n",
    "                NameList.append(self.List1[self.index])\n",
    "                NameList.append(self.List2[self.index])\n",
    "                Name = \" \".join(NameList)\n",
    "            elif self.order == 'last_name_with_comma_first':\n",
    "                NameList.append(self.List3[self.index])\n",
    "                NameList.append(self.List1[self.index])\n",
    "                NameList2.append(\", \".join(NameList))\n",
    "                NameList2.append(self.List2[self.index])\n",
    "                Name = \" \".join(NameList2)\n",
    "            else:\n",
    "                print(\"Name order is not supported type\")\n",
    "                Name = None\n",
    "        else:\n",
    "            raise StopIteration\n",
    "        return Name\n",
    "\n",
    "\n",
    "# ------------------------ end of class definition ------------------------"
   ]
  },
  {
   "cell_type": "code",
   "execution_count": 15,
   "id": "585985ac",
   "metadata": {},
   "outputs": [
    {
     "name": "stdout",
     "output_type": "stream",
     "text": [
      "In the order of first_name_first:\n",
      "mbpjs yimpg nqzlq\n",
      "eyzwe jdizj etrtd\n",
      "xkdkg cpltr vrnup\n",
      "obamv qzcwu irxza\n",
      "thwsz pxche kkghz\n",
      "rcprd okdjr cqjwk\n",
      "rtjtk grozs zscmh\n",
      "jfvcy fbice gtpve\n",
      "brwqg cvqzv wmihs\n",
      "noult spwcd ivzkp\n",
      "\n",
      "In the order of last_name_first:\n",
      "nqzlq mbpjs yimpg\n",
      "etrtd eyzwe jdizj\n",
      "vrnup xkdkg cpltr\n",
      "irxza obamv qzcwu\n",
      "kkghz thwsz pxche\n",
      "cqjwk rcprd okdjr\n",
      "zscmh rtjtk grozs\n",
      "gtpve jfvcy fbice\n",
      "wmihs brwqg cvqzv\n",
      "ivzkp noult spwcd\n",
      "\n",
      "In the order of last_name_with_comma_first:\n",
      "nqzlq, mbpjs yimpg\n",
      "etrtd, eyzwe jdizj\n",
      "vrnup, xkdkg cpltr\n",
      "irxza, obamv qzcwu\n",
      "kkghz, thwsz pxche\n",
      "cqjwk, rcprd okdjr\n",
      "zscmh, rtjtk grozs\n",
      "gtpve, jfvcy fbice\n",
      "wmihs, brwqg cvqzv\n",
      "ivzkp, noult spwcd\n",
      "\n",
      "nqzlq\n",
      "etrtd\n",
      "vrnup\n",
      "irxza\n",
      "kkghz\n",
      "cqjwk\n",
      "zscmh\n",
      "gtpve\n",
      "wmihs\n",
      "ivzkp\n",
      "\n"
     ]
    }
   ],
   "source": [
    "import random\n",
    "import string\n",
    "\n",
    "#  Generate an array of 10 random strings of length 5 for each variables\n",
    "random.seed(0)\n",
    "FirstList = []\n",
    "MiddleList = []\n",
    "LastList = []\n",
    "for ii in range(10):\n",
    "    Randomlist1 = []\n",
    "    Randomlist2 = []\n",
    "    Randomlist3 = []\n",
    "    for jj in range(5):\n",
    "        Randomlist1.append(random.choice(string.ascii_lowercase))\n",
    "        Randomlist2.append(random.choice(string.ascii_lowercase))\n",
    "        Randomlist3.append(random.choice(string.ascii_lowercase))\n",
    "    Randomstring1 = \"\".join(Randomlist1)\n",
    "    Randomstring2 = \"\".join(Randomlist2)\n",
    "    Randomstring3 = \"\".join(Randomlist3)\n",
    "    FirstList.append(Randomstring1)\n",
    "    MiddleList.append(Randomstring2)\n",
    "    LastList.append(Randomstring3)\n",
    "\n",
    "# Create three instances of the People class storing the random strings in different orders\n",
    "people1 = People(FirstList, MiddleList, LastList, 'first_name_first')\n",
    "people2 = People(FirstList, MiddleList, LastList, 'last_name_first')\n",
    "people3 = People(FirstList, MiddleList, LastList, 'last_name_with_comma_first')\n",
    "\n",
    "# Iterating through the data stored in People instance in different orders\n",
    "print(\"In the order of %s:\" % (people1.order))\n",
    "for item in people1:\n",
    "    print(item, end=\"\\n\")\n",
    "print(\"\")\n",
    "\n",
    "print(\"In the order of %s:\" % (people2.order))\n",
    "for item in people2:\n",
    "    print(item, end=\"\\n\")\n",
    "print(\"\")\n",
    "\n",
    "print(\"In the order of %s:\" % (people3.order))\n",
    "for item in people3:\n",
    "    print(item, end=\"\\n\")\n",
    "print(\"\")\n",
    "\n",
    "# Print out the sorted last names by applying the function-call operator\n",
    "people1()\n",
    "print(\"\")"
   ]
  },
  {
   "cell_type": "markdown",
   "id": "d17d0ed2",
   "metadata": {},
   "source": [
    "5. Extend the **People** class into a subclass named **PeopleWithMoney**. Endow this class with its own instance variable named **wealth**. Initialize wealth with 10 randomly generated integer between $0$ and $1000$. Again create an iterator for this class that gets a part of its work done by the iterator of the parent class. \n",
    "    - When iterating through an instance of **PeopleWithMoney**, that should print each individual's name following the order \"first middle last\" and the wealth associated with the individual\n",
    "    - Also make the instances of the subclass callable. When an instance of **PeopleWithMoney** with the function-call operator \"()\" is called, the names of all individual sorted by the size of their wealth in the ascending order should be printed out"
   ]
  },
  {
   "cell_type": "code",
   "execution_count": 16,
   "id": "f2d703fe",
   "metadata": {},
   "outputs": [],
   "source": [
    "class PeopleWithMoney(People):\n",
    "    def __init__(self, nam1, nam2, nam3, order, wealth):\n",
    "        super().__init__(nam1, nam2, nam3, order)\n",
    "        self.wealth = wealth\n",
    "\n",
    "    def __iter__(self):\n",
    "        return MoneyIterator(self)\n",
    "\n",
    "    def __call__(self):\n",
    "        index_order = []\n",
    "        n = len(self.first_names)\n",
    "        sorted_name = []\n",
    "        for ii in range(n):\n",
    "            index_order = index_order + [ii]\n",
    "        for ii in range(n):\n",
    "            min = ii\n",
    "            for jj in range(ii + 1, n):\n",
    "                if self.wealth[index_order[jj]] < self.wealth[\n",
    "                        index_order[min]]:\n",
    "                    min = jj\n",
    "            index_order[min], index_order[ii] = index_order[ii], index_order[\n",
    "                min]\n",
    "        for ii in range(n):\n",
    "            N = index_order[ii]\n",
    "            sorted_list = [\n",
    "                self.first_names[N], self.middle_names[N], self.last_names[N],\n",
    "                str(self.wealth[N])\n",
    "            ]\n",
    "            sorted_str = \" \".join(sorted_list)\n",
    "            sorted_name.append(sorted_str)\n",
    "            if ii < n - 1:\n",
    "                print(sorted_str, end=\"\\n\")\n",
    "            else:\n",
    "                print(sorted_str, end=\"\")\n",
    "        return sorted_name\n",
    "\n",
    "\n",
    "class MoneyIterator(PeopleIterator):\n",
    "    def __init__(self, MoneyObject):\n",
    "        super().__init__(MoneyObject)\n",
    "        self.money = MoneyObject.wealth\n",
    "\n",
    "    def __iter__(self):\n",
    "        return self\n",
    "\n",
    "    def __next__(self):\n",
    "        Name = super().__next__()\n",
    "        NameMoneyList = [Name, str(self.money[self.index])]\n",
    "        NameWithMoney = \" \".join(NameMoneyList)\n",
    "        return NameWithMoney"
   ]
  },
  {
   "cell_type": "code",
   "execution_count": 17,
   "id": "1bafac9f",
   "metadata": {},
   "outputs": [
    {
     "name": "stdout",
     "output_type": "stream",
     "text": [
      "mbpjs yimpg nqzlq 601\n",
      "eyzwe jdizj etrtd 645\n",
      "xkdkg cpltr vrnup 343\n",
      "obamv qzcwu irxza 865\n",
      "thwsz pxche kkghz 194\n",
      "rcprd okdjr cqjwk 248\n",
      "rtjtk grozs zscmh 16\n",
      "jfvcy fbice gtpve 749\n",
      "brwqg cvqzv wmihs 277\n",
      "noult spwcd ivzkp 119\n",
      "\n",
      "rtjtk grozs zscmh 16\n",
      "noult spwcd ivzkp 119\n",
      "thwsz pxche kkghz 194\n",
      "rcprd okdjr cqjwk 248\n",
      "brwqg cvqzv wmihs 277\n",
      "xkdkg cpltr vrnup 343\n",
      "mbpjs yimpg nqzlq 601\n",
      "eyzwe jdizj etrtd 645\n",
      "jfvcy fbice gtpve 749\n",
      "obamv qzcwu irxza 865"
     ]
    },
    {
     "data": {
      "text/plain": [
       "['rtjtk grozs zscmh 16',\n",
       " 'noult spwcd ivzkp 119',\n",
       " 'thwsz pxche kkghz 194',\n",
       " 'rcprd okdjr cqjwk 248',\n",
       " 'brwqg cvqzv wmihs 277',\n",
       " 'xkdkg cpltr vrnup 343',\n",
       " 'mbpjs yimpg nqzlq 601',\n",
       " 'eyzwe jdizj etrtd 645',\n",
       " 'jfvcy fbice gtpve 749',\n",
       " 'obamv qzcwu irxza 865']"
      ]
     },
     "execution_count": 17,
     "metadata": {},
     "output_type": "execute_result"
    }
   ],
   "source": [
    "WealthList = []\n",
    "for ii in range(10):\n",
    "    WealthList.append(random.randint(0, 1000))\n",
    "people4 = PeopleWithMoney(FirstList, MiddleList, LastList, 'first_name_first',\n",
    "                          WealthList)\n",
    "for item in people4:\n",
    "    print(item, end='\\n')\n",
    "print(\"\")\n",
    "people4()"
   ]
  }
 ],
 "metadata": {
  "kernelspec": {
   "display_name": "DeepLearning",
   "language": "python",
   "name": "deeplearning"
  },
  "language_info": {
   "codemirror_mode": {
    "name": "ipython",
    "version": 3
   },
   "file_extension": ".py",
   "mimetype": "text/x-python",
   "name": "python",
   "nbconvert_exporter": "python",
   "pygments_lexer": "ipython3",
   "version": "3.8.10"
  },
  "toc": {
   "base_numbering": 1,
   "nav_menu": {},
   "number_sections": true,
   "sideBar": true,
   "skip_h1_title": false,
   "title_cell": "Table of Contents",
   "title_sidebar": "Contents",
   "toc_cell": false,
   "toc_position": {
    "height": "calc(100% - 180px)",
    "left": "10px",
    "top": "150px",
    "width": "307.2px"
   },
   "toc_section_display": true,
   "toc_window_display": true
  },
  "varInspector": {
   "cols": {
    "lenName": 16,
    "lenType": 16,
    "lenVar": 40
   },
   "kernels_config": {
    "python": {
     "delete_cmd_postfix": "",
     "delete_cmd_prefix": "del ",
     "library": "var_list.py",
     "varRefreshCmd": "print(var_dic_list())"
    },
    "r": {
     "delete_cmd_postfix": ") ",
     "delete_cmd_prefix": "rm(",
     "library": "var_list.r",
     "varRefreshCmd": "cat(var_dic_list()) "
    }
   },
   "position": {
    "height": "352.4px",
    "left": "1168.4px",
    "right": "20px",
    "top": "123px",
    "width": "350px"
   },
   "types_to_exclude": [
    "module",
    "function",
    "builtin_function_or_method",
    "instance",
    "_Feature"
   ],
   "window_display": false
  }
 },
 "nbformat": 4,
 "nbformat_minor": 5
}
